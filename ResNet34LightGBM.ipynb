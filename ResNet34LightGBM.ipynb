{
  "nbformat": 4,
  "nbformat_minor": 0,
  "metadata": {
    "colab": {
      "name": "34GradientBoostingA.ipynb",
      "provenance": [],
      "collapsed_sections": [],
      "toc_visible": true,
      "include_colab_link": true
    },
    "kernelspec": {
      "name": "python3",
      "display_name": "Python 3"
    },
    "accelerator": "GPU"
  },
  "cells": [
    {
      "cell_type": "markdown",
      "metadata": {
        "id": "view-in-github",
        "colab_type": "text"
      },
      "source": [
        "<a href=\"https://colab.research.google.com/github/m-aliabbas/PnuemoniaRefined/blob/master/ResNet34LightGBM.ipynb\" target=\"_parent\"><img src=\"https://colab.research.google.com/assets/colab-badge.svg\" alt=\"Open In Colab\"/></a>"
      ]
    },
    {
      "cell_type": "markdown",
      "metadata": {
        "id": "wZ2qHEIHqOKS",
        "colab_type": "text"
      },
      "source": [
        "# Loading and Preprocessing Data"
      ]
    },
    {
      "cell_type": "code",
      "metadata": {
        "id": "1qBVybnmuWHi",
        "colab_type": "code",
        "colab": {
          "base_uri": "https://localhost:8080/",
          "height": 129
        },
        "outputId": "ea4f772f-0cac-4f0e-ac5f-8a7f0a8c0d34"
      },
      "source": [
        "# Load the Drive helper and mount\n",
        "from google.colab import drive\n",
        "\n",
        "# This will prompt for authorization.\n",
        "drive.mount('/content/drive')"
      ],
      "execution_count": 2,
      "outputs": [
        {
          "output_type": "stream",
          "text": [
            "Go to this URL in a browser: https://accounts.google.com/o/oauth2/auth?client_id=947318989803-6bn6qk8qdgf4n4g3pfee6491hc0brc4i.apps.googleusercontent.com&redirect_uri=urn%3aietf%3awg%3aoauth%3a2.0%3aoob&response_type=code&scope=email%20https%3a%2f%2fwww.googleapis.com%2fauth%2fdocs.test%20https%3a%2f%2fwww.googleapis.com%2fauth%2fdrive%20https%3a%2f%2fwww.googleapis.com%2fauth%2fdrive.photos.readonly%20https%3a%2f%2fwww.googleapis.com%2fauth%2fpeopleapi.readonly\n",
            "\n",
            "Enter your authorization code:\n",
            "··········\n",
            "Mounted at /content/drive\n"
          ],
          "name": "stdout"
        }
      ]
    },
    {
      "cell_type": "code",
      "metadata": {
        "id": "nJadp5X2wF15",
        "colab_type": "code",
        "colab": {
          "base_uri": "https://localhost:8080/",
          "height": 35
        },
        "outputId": "24b43467-ac0e-49de-a398-99555ef151ae"
      },
      "source": [
        "!ls '/content/drive/My Drive/PreTrainModels/'"
      ],
      "execution_count": 3,
      "outputs": [
        {
          "output_type": "stream",
          "text": [
            "ls: cannot access '/content/drive/My Drive/PreTrainModels/': No such file or directory\n"
          ],
          "name": "stdout"
        }
      ]
    },
    {
      "cell_type": "code",
      "metadata": {
        "id": "0NH-2YjdJLNB",
        "colab_type": "code",
        "colab": {}
      },
      "source": [
        "import numpy as np\n",
        "import matplotlib.pyplot as plt\n",
        "import pandas as pd\n",
        "# Importing the dataset\n",
        "\n"
      ],
      "execution_count": 4,
      "outputs": []
    },
    {
      "cell_type": "code",
      "metadata": {
        "id": "RO9gbhYOKA8W",
        "colab_type": "code",
        "colab": {
          "base_uri": "https://localhost:8080/",
          "height": 35
        },
        "outputId": "b73c4f2f-c7a2-4c42-9b64-92e321b87920"
      },
      "source": [
        "dataset = pd.read_csv('/content/drive/My Drive/dataset34NewA.csv')\n",
        "dataset.shape"
      ],
      "execution_count": 5,
      "outputs": [
        {
          "output_type": "execute_result",
          "data": {
            "text/plain": [
              "(5856, 513)"
            ]
          },
          "metadata": {
            "tags": []
          },
          "execution_count": 5
        }
      ]
    },
    {
      "cell_type": "markdown",
      "metadata": {
        "id": "qvVWjDZ3qX5E",
        "colab_type": "text"
      },
      "source": [
        "#Split into Train , Validation and Test Sets"
      ]
    },
    {
      "cell_type": "code",
      "metadata": {
        "id": "VYAJoivhJcdJ",
        "colab_type": "code",
        "colab": {}
      },
      "source": [
        "from sklearn.model_selection import train_test_split\n",
        "# dftrain,dftest= train_test_split(dataset, test_size=0.1065, random_state=42)"
      ],
      "execution_count": 8,
      "outputs": []
    },
    {
      "cell_type": "code",
      "metadata": {
        "id": "Mihv9RMqz5De",
        "colab_type": "code",
        "colab": {}
      },
      "source": [
        "dftrain,dfvalid= train_test_split(dftrain, test_size=0.10, random_state=42)"
      ],
      "execution_count": 9,
      "outputs": []
    },
    {
      "cell_type": "code",
      "metadata": {
        "id": "3UfgAa39c9LS",
        "colab_type": "code",
        "colab": {}
      },
      "source": [
        "dfTest=pd.read_csv('/content/drive/My Drive/dataset34NewTest.csv')"
      ],
      "execution_count": null,
      "outputs": []
    },
    {
      "cell_type": "markdown",
      "metadata": {
        "id": "1R5g2Hblqe6E",
        "colab_type": "text"
      },
      "source": [
        "Getting Features Name"
      ]
    },
    {
      "cell_type": "code",
      "metadata": {
        "id": "LZB5c63dLhHb",
        "colab_type": "code",
        "colab": {}
      },
      "source": [
        "featureCol=[]\n",
        "for i in range(512):\n",
        "    featureCol+=[str(i)]"
      ],
      "execution_count": 10,
      "outputs": []
    },
    {
      "cell_type": "code",
      "metadata": {
        "id": "uCdd6YcM0Ljo",
        "colab_type": "code",
        "colab": {
          "base_uri": "https://localhost:8080/",
          "height": 35
        },
        "outputId": "bdea66e3-64b0-4d25-c69f-903948b382f5"
      },
      "source": [
        "dftrain.shape,dfvalid.shape,dftest.shape"
      ],
      "execution_count": 11,
      "outputs": [
        {
          "output_type": "execute_result",
          "data": {
            "text/plain": [
              "((4708, 513), (524, 513), (624, 513))"
            ]
          },
          "metadata": {
            "tags": []
          },
          "execution_count": 11
        }
      ]
    },
    {
      "cell_type": "code",
      "metadata": {
        "id": "eV09g6UPqilP",
        "colab_type": "code",
        "colab": {}
      },
      "source": [
        ""
      ],
      "execution_count": 11,
      "outputs": []
    },
    {
      "cell_type": "markdown",
      "metadata": {
        "id": "zuRIXDfiqnWi",
        "colab_type": "text"
      },
      "source": [
        "Ploting Historgram of Data in sets"
      ]
    },
    {
      "cell_type": "code",
      "metadata": {
        "id": "1MTjAd3S0aFI",
        "colab_type": "code",
        "colab": {
          "base_uri": "https://localhost:8080/",
          "height": 283
        },
        "outputId": "1c4e9c54-1d49-458a-ca6e-05d100fdeca5"
      },
      "source": [
        "dftrain['label'].hist()\n",
        "dfvalid['label'].hist()\n",
        "dftest['label'].hist()"
      ],
      "execution_count": 12,
      "outputs": [
        {
          "output_type": "execute_result",
          "data": {
            "text/plain": [
              "<matplotlib.axes._subplots.AxesSubplot at 0x7f44376b2be0>"
            ]
          },
          "metadata": {
            "tags": []
          },
          "execution_count": 12
        },
        {
          "output_type": "display_data",
          "data": {
            "image/png": "[encoded data removed]",
            "text/plain": [
              "<Figure size 432x288 with 1 Axes>"
            ]
          },
          "metadata": {
            "tags": [],
            "needs_background": "light"
          }
        }
      ]
    },
    {
      "cell_type": "code",
      "metadata": {
        "id": "AiRT_RyoM3-j",
        "colab_type": "code",
        "colab": {}
      },
      "source": [
        "featureCol+=['label']"
      ],
      "execution_count": 13,
      "outputs": []
    },
    {
      "cell_type": "code",
      "metadata": {
        "id": "Mnw0n3CXNGN6",
        "colab_type": "code",
        "colab": {}
      },
      "source": [
        "testCol=featureCol[:512]"
      ],
      "execution_count": 14,
      "outputs": []
    },
    {
      "cell_type": "code",
      "metadata": {
        "id": "_lsgPaDUNP9w",
        "colab_type": "code",
        "colab": {
          "base_uri": "https://localhost:8080/",
          "height": 35
        },
        "outputId": "43ee9f0d-ce94-48f4-8ec3-a4118b5579d4"
      },
      "source": [
        "len(testCol)"
      ],
      "execution_count": 15,
      "outputs": [
        {
          "output_type": "execute_result",
          "data": {
            "text/plain": [
              "512"
            ]
          },
          "metadata": {
            "tags": []
          },
          "execution_count": 15
        }
      ]
    },
    {
      "cell_type": "code",
      "metadata": {
        "id": "XjQi1E99qqyX",
        "colab_type": "code",
        "colab": {}
      },
      "source": [
        ""
      ],
      "execution_count": 15,
      "outputs": []
    },
    {
      "cell_type": "markdown",
      "metadata": {
        "id": "ocK87Gcrqrnv",
        "colab_type": "text"
      },
      "source": [
        "Initalization of sets according to LightGB . it is optional"
      ]
    },
    {
      "cell_type": "code",
      "metadata": {
        "id": "yDxEIbSxN8VV",
        "colab_type": "code",
        "colab": {}
      },
      "source": [
        "import lightgbm as lgb\n",
        "import gc\n",
        "gc.collect()\n",
        "\n",
        "dtrain = lgb.Dataset(dftrain[featureCol[:512]].values, label=dftrain['label'].values,\n",
        "                      feature_name=featureCol[:512]\n",
        "                      )\n",
        "dvalid = lgb.Dataset(dfvalid[featureCol[:512]].values, label=dftest['label'].values,\n",
        "                      feature_name=featureCol[:512],\n",
        "                      )"
      ],
      "execution_count": 16,
      "outputs": []
    },
    {
      "cell_type": "markdown",
      "metadata": {
        "id": "Vo5dTDysqzqp",
        "colab_type": "text"
      },
      "source": [
        "Initial Paramets"
      ]
    },
    {
      "cell_type": "markdown",
      "metadata": {
        "id": "xa4pXDWnrgba",
        "colab_type": "text"
      },
      "source": [
        "#Random Search for Hyperparamters Tuning"
      ]
    },
    {
      "cell_type": "code",
      "metadata": {
        "id": "mClnlEYVOZ9X",
        "colab_type": "code",
        "colab": {}
      },
      "source": [
        "params = {'boosting_type': 'gbdt',\n",
        "          'max_depth' : -1,\n",
        "          'objective': 'binary',\n",
        "          'nthread': 3, # Updated from nthread\n",
        "          'num_leaves': 64,\n",
        "          'learning_rate': 0.1,\n",
        "          'max_bin': 512,\n",
        "          'subsample_for_bin': 200,\n",
        "          'subsample': 1,\n",
        "          'subsample_freq': 1,\n",
        "          'colsample_bytree': 0.8,\n",
        "          'reg_alpha': 5,\n",
        "          'reg_lambda': 10,\n",
        "          'min_split_gain': 0.5,\n",
        "          'min_child_weight': 1,\n",
        "          'min_child_samples': 5,\n",
        "          'scale_pos_weight': 1,\n",
        "          'verbose': 100,\n",
        "          'num_class' : 1,\n",
        "          'metric' : 'binary_error'}\n"
      ],
      "execution_count": 17,
      "outputs": []
    },
    {
      "cell_type": "markdown",
      "metadata": {
        "id": "CmkfCsnIq3KS",
        "colab_type": "text"
      },
      "source": [
        "Some Parameters are initalization as a population. On which we performs Random Search / Grid Search to Choose Optimal Hyperparameters"
      ]
    },
    {
      "cell_type": "code",
      "metadata": {
        "id": "L5v6HRU64Hqg",
        "colab_type": "code",
        "colab": {}
      },
      "source": [
        "gridParams = {\n",
        "    'learning_rate': [0.01,0.9,0.0001,0.35,0.1,0.0001,0.2,0.003,0.009,0.02],\n",
        "    'n_estimators': [40,100,120,12,20,50,90,140,105],\n",
        "    'num_leaves': [100,200,300,40,60,50,350,400],\n",
        "    'boosting_type' : ['gbdt'],\n",
        "    'objective' : ['binary'],\n",
        "    'random_state' : [501], # Updated from 'seed'\n",
        "    'colsample_bytree' : [0.65,0.9,0.7,0.85, 0.66,0.7,0.9],\n",
        "    \n",
        "    \n",
        "    }"
      ],
      "execution_count": 18,
      "outputs": []
    },
    {
      "cell_type": "code",
      "metadata": {
        "id": "ETdvDE1mOvVk",
        "colab_type": "code",
        "colab": {}
      },
      "source": [
        "mdl = lgb.LGBMClassifier(boosting_type= 'gbdt',\n",
        "          objective = 'binary',\n",
        "          n_jobs = 3, # Updated from 'nthread'\n",
        "          silent = True,\n",
        "          max_depth = params['max_depth'],\n",
        "          max_bin = params['max_bin'],\n",
        "          subsample_for_bin = params['subsample_for_bin'],\n",
        "          subsample = params['subsample'],\n",
        "          subsample_freq = params['subsample_freq'],\n",
        "          min_split_gain = params['min_split_gain'],\n",
        "          min_child_weight = params['min_child_weight'],\n",
        "          min_child_samples = params['min_child_samples'],\n",
        "          scale_pos_weight = params['scale_pos_weight'],\n",
        "                         verbose=100\n",
        "                        \n",
        "                        )"
      ],
      "execution_count": 19,
      "outputs": []
    },
    {
      "cell_type": "code",
      "metadata": {
        "id": "1Xr7L8ek5K8I",
        "colab_type": "code",
        "colab": {
          "base_uri": "https://localhost:8080/",
          "height": 55
        },
        "outputId": "9e864afe-5489-4a68-e330-8509126fca38"
      },
      "source": [
        "mdl.get_params().keys()"
      ],
      "execution_count": 20,
      "outputs": [
        {
          "output_type": "execute_result",
          "data": {
            "text/plain": [
              "dict_keys(['boosting_type', 'class_weight', 'colsample_bytree', 'importance_type', 'learning_rate', 'max_depth', 'min_child_samples', 'min_child_weight', 'min_split_gain', 'n_estimators', 'n_jobs', 'num_leaves', 'objective', 'random_state', 'reg_alpha', 'reg_lambda', 'silent', 'subsample', 'subsample_for_bin', 'subsample_freq', 'max_bin', 'scale_pos_weight', 'verbose'])"
            ]
          },
          "metadata": {
            "tags": []
          },
          "execution_count": 20
        }
      ]
    },
    {
      "cell_type": "markdown",
      "metadata": {
        "id": "eZ5delpcrHuG",
        "colab_type": "text"
      },
      "source": [
        "Random Search with 100 Iteration , it takes very large time so I am commiting the code beacause we get optimal values which are below"
      ]
    },
    {
      "cell_type": "code",
      "metadata": {
        "id": "E1G1gE4ArgBy",
        "colab_type": "code",
        "colab": {}
      },
      "source": [
        ""
      ],
      "execution_count": 20,
      "outputs": []
    },
    {
      "cell_type": "code",
      "metadata": {
        "id": "YNPd1lKt5LAY",
        "colab_type": "code",
        "colab": {}
      },
      "source": [
        "from sklearn.metrics import (roc_curve, auc, accuracy_score)\n",
        "from sklearn.model_selection import GridSearchCV\n",
        "from sklearn.model_selection import RandomizedSearchCV, GridSearchCV\n",
        "\n",
        "\n",
        "# gs = RandomizedSearchCV(\n",
        "#     estimator=mdl, param_distributions=gridParams, \n",
        "#     n_iter=100,\n",
        "#     scoring='roc_auc',\n",
        "#     cv=2,\n",
        "#     n_jobs=1,\n",
        "#     refit=True,\n",
        "#     random_state=314,\n",
        "#     verbose=True)"
      ],
      "execution_count": 21,
      "outputs": []
    },
    {
      "cell_type": "code",
      "metadata": {
        "id": "NwVhWf9UvwKS",
        "colab_type": "code",
        "colab": {}
      },
      "source": [
        "# fit_params={\"early_stopping_rounds\":50, \n",
        "#             \"eval_metric\" : 'auc', \n",
        "#             \"eval_set\" : [dfvalid],\n",
        "#             'eval_names': ['valid'],\n",
        "#             #'callbacks': [lgb.reset_parameter(learning_rate=learning_rate_010_decay_power_099)],\n",
        "#             'verbose': 100,\n",
        "#             'categorical_feature': 'auto'}"
      ],
      "execution_count": 22,
      "outputs": []
    },
    {
      "cell_type": "code",
      "metadata": {
        "id": "k57hQoPb5-FP",
        "colab_type": "code",
        "colab": {}
      },
      "source": [
        "# gs.fit(dftrain[testCol], dftrain['label'])"
      ],
      "execution_count": 23,
      "outputs": []
    },
    {
      "cell_type": "code",
      "metadata": {
        "id": "k8TnYW5nrsNz",
        "colab_type": "code",
        "colab": {}
      },
      "source": [
        ""
      ],
      "execution_count": 23,
      "outputs": []
    },
    {
      "cell_type": "markdown",
      "metadata": {
        "id": "sUFKZ2Hkrt33",
        "colab_type": "text"
      },
      "source": [
        "#Train Model WIth Best Parameters Optimized by Random Search"
      ]
    },
    {
      "cell_type": "code",
      "metadata": {
        "id": "FrsahrKv3O1i",
        "colab_type": "code",
        "colab": {
          "base_uri": "https://localhost:8080/",
          "height": 172
        },
        "outputId": "d1f4cf77-d674-4816-cd73-d6afc2e54446"
      },
      "source": [
        "print('Best score reached: {} with params: {} '.format(gs.best_score_, gs.best_params_))"
      ],
      "execution_count": 24,
      "outputs": [
        {
          "output_type": "error",
          "ename": "NameError",
          "evalue": "ignored",
          "traceback": [
            "\u001b[0;31m---------------------------------------------------------------------------\u001b[0m",
            "\u001b[0;31mNameError\u001b[0m                                 Traceback (most recent call last)",
            "\u001b[0;32m<ipython-input-24-6a3cb05f99f8>\u001b[0m in \u001b[0;36m<module>\u001b[0;34m()\u001b[0m\n\u001b[0;32m----> 1\u001b[0;31m \u001b[0mprint\u001b[0m\u001b[0;34m(\u001b[0m\u001b[0;34m'Best score reached: {} with params: {} '\u001b[0m\u001b[0;34m.\u001b[0m\u001b[0mformat\u001b[0m\u001b[0;34m(\u001b[0m\u001b[0mgs\u001b[0m\u001b[0;34m.\u001b[0m\u001b[0mbest_score_\u001b[0m\u001b[0;34m,\u001b[0m \u001b[0mgs\u001b[0m\u001b[0;34m.\u001b[0m\u001b[0mbest_params_\u001b[0m\u001b[0;34m)\u001b[0m\u001b[0;34m)\u001b[0m\u001b[0;34m\u001b[0m\u001b[0;34m\u001b[0m\u001b[0m\n\u001b[0m",
            "\u001b[0;31mNameError\u001b[0m: name 'gs' is not defined"
          ]
        }
      ]
    },
    {
      "cell_type": "code",
      "metadata": {
        "id": "kI_7vxAhzI97",
        "colab_type": "code",
        "colab": {
          "base_uri": "https://localhost:8080/",
          "height": 172
        },
        "outputId": "fc592389-b5b1-4d2f-8b87-2bab04490685"
      },
      "source": [
        "bestParams=gs.best_params_"
      ],
      "execution_count": 25,
      "outputs": [
        {
          "output_type": "error",
          "ename": "NameError",
          "evalue": "ignored",
          "traceback": [
            "\u001b[0;31m---------------------------------------------------------------------------\u001b[0m",
            "\u001b[0;31mNameError\u001b[0m                                 Traceback (most recent call last)",
            "\u001b[0;32m<ipython-input-25-3bb7ce8d2665>\u001b[0m in \u001b[0;36m<module>\u001b[0;34m()\u001b[0m\n\u001b[0;32m----> 1\u001b[0;31m \u001b[0mbestParams\u001b[0m\u001b[0;34m=\u001b[0m\u001b[0mgs\u001b[0m\u001b[0;34m.\u001b[0m\u001b[0mbest_params_\u001b[0m\u001b[0;34m\u001b[0m\u001b[0;34m\u001b[0m\u001b[0m\n\u001b[0m",
            "\u001b[0;31mNameError\u001b[0m: name 'gs' is not defined"
          ]
        }
      ]
    },
    {
      "cell_type": "code",
      "metadata": {
        "id": "rvIcGXRU4ETj",
        "colab_type": "code",
        "colab": {}
      },
      "source": [
        "params={'random_state': 501, 'objective': 'binary', 'num_leaves': 100, 'n_estimators': 100, 'learning_rate': 0.2, 'colsample_bytree': 0.85, 'boosting_type': 'gbdt'}"
      ],
      "execution_count": 26,
      "outputs": []
    },
    {
      "cell_type": "code",
      "metadata": {
        "id": "nUilNloz5LGw",
        "colab_type": "code",
        "colab": {}
      },
      "source": [
        "mdl = lgb.LGBMClassifier(\n",
        "                        boosting_type='gbdt',\n",
        "          objective = 'binary',\n",
        "          n_jobs = 2, # Updated from 'nthread'\n",
        "          silent = True,\n",
        "                     random_state=501,\n",
        "                         num_leaves=100,\n",
        "                         n_estimators=100,\n",
        "                         learning_rate=0.2,\n",
        "                         colsample_bytree=0.85,\n",
        "                         \n",
        "                        )"
      ],
      "execution_count": 27,
      "outputs": []
    },
    {
      "cell_type": "code",
      "metadata": {
        "id": "o1joxRIS5LJ7",
        "colab_type": "code",
        "colab": {
          "base_uri": "https://localhost:8080/",
          "height": 127
        },
        "outputId": "22b393e8-e1db-46b5-86e0-461be788bcc0"
      },
      "source": [
        "mdl.fit(dftrain[testCol],dftrain['label'])"
      ],
      "execution_count": 28,
      "outputs": [
        {
          "output_type": "execute_result",
          "data": {
            "text/plain": [
              "LGBMClassifier(boosting_type='gbdt', class_weight=None, colsample_bytree=0.85,\n",
              "               importance_type='split', learning_rate=0.2, max_depth=-1,\n",
              "               min_child_samples=20, min_child_weight=0.001, min_split_gain=0.0,\n",
              "               n_estimators=100, n_jobs=2, num_leaves=100, objective='binary',\n",
              "               random_state=501, reg_alpha=0.0, reg_lambda=0.0, silent=True,\n",
              "               subsample=1.0, subsample_for_bin=200000, subsample_freq=0)"
            ]
          },
          "metadata": {
            "tags": []
          },
          "execution_count": 28
        }
      ]
    },
    {
      "cell_type": "code",
      "metadata": {
        "id": "_sBFbnQPXWlj",
        "colab_type": "code",
        "colab": {}
      },
      "source": [
        "lab=dftest['label']"
      ],
      "execution_count": 29,
      "outputs": []
    },
    {
      "cell_type": "code",
      "metadata": {
        "id": "_r7Lmz_OXy2d",
        "colab_type": "code",
        "colab": {}
      },
      "source": [
        "dftest1=dftest.drop('label',axis=1)"
      ],
      "execution_count": 30,
      "outputs": []
    },
    {
      "cell_type": "code",
      "metadata": {
        "id": "cnGW1lyUwJ7u",
        "colab_type": "code",
        "colab": {}
      },
      "source": [
        ""
      ],
      "execution_count": 30,
      "outputs": []
    },
    {
      "cell_type": "code",
      "metadata": {
        "id": "X7_DzRm2Tb8B",
        "colab_type": "code",
        "colab": {}
      },
      "source": [
        "\n",
        "y_pred=mdl.predict(dftest1)\n"
      ],
      "execution_count": 31,
      "outputs": []
    },
    {
      "cell_type": "code",
      "metadata": {
        "id": "zEkyAHZmYUyd",
        "colab_type": "code",
        "colab": {}
      },
      "source": [
        "# for i in range(len(y_pred)):\n",
        "#     if y_pred[i]>=.4:       # setting threshold to .5\n",
        "#        y_pred[i]=1\n",
        "#     else:  \n",
        "#        y_pred[i]=0"
      ],
      "execution_count": 32,
      "outputs": []
    },
    {
      "cell_type": "code",
      "metadata": {
        "id": "MhpW9YqVQtr3",
        "colab_type": "code",
        "colab": {}
      },
      "source": [
        "from sklearn.metrics import confusion_matrix\n",
        "cm = confusion_matrix(lab, y_pred)\n",
        "#Accuracy\n",
        "from sklearn.metrics import accuracy_score\n",
        "accuracy=accuracy_score(y_pred,lab)"
      ],
      "execution_count": 33,
      "outputs": []
    },
    {
      "cell_type": "markdown",
      "metadata": {
        "id": "i84zIAKpkZaY",
        "colab_type": "text"
      },
      "source": [
        "Calculating Values according to\n",
        "$$ Recall = \\frac{TruePositive}{TruePositive+False Nagitive}=9535603715170278$$\n",
        "$$ Precision = \\frac{TruePositive}{TruePositive+FalsePositive}$$\n",
        "$$F1 = \\frac{2 \\cdot precision\\cdot recall}{precision+ recall}$$"
      ]
    },
    {
      "cell_type": "code",
      "metadata": {
        "id": "XJmuzKEJSO-A",
        "colab_type": "code",
        "colab": {
          "base_uri": "https://localhost:8080/",
          "height": 54
        },
        "outputId": "b4abe7c8-d5b0-418e-8ed0-4d97d7b4679a"
      },
      "source": [
        "conf=cm\n",
        "TrueNagitive=conf[0][0]\n",
        "FalseNegative=conf[0][1]\n",
        "TruePositive=conf[1][1]\n",
        "FalsePositive=conf[1][0]\n",
        "recal=TruePositive/(TruePositive+FalseNegative)\n",
        "precision=TruePositive/(TruePositive+FalsePositive)\n",
        "print(\"Precision of Model =\",precision,\"Recall of Model \", recal)\n",
        "f1=2*((precision*recal)/(precision+recal))\n",
        "print('F1 Score of Model =',f1)"
      ],
      "execution_count": 34,
      "outputs": [
        {
          "output_type": "stream",
          "text": [
            "Precision of Model = 0.9664429530201343 Recall of Model  0.9707865168539326\n",
            "F1 Score of Model = 0.968609865470852\n"
          ],
          "name": "stdout"
        }
      ]
    },
    {
      "cell_type": "code",
      "metadata": {
        "id": "1Xj6XqHR4ZAA",
        "colab_type": "code",
        "colab": {
          "base_uri": "https://localhost:8080/",
          "height": 54
        },
        "outputId": "571e8038-7b2c-44f2-bacb-82abd520b8fd"
      },
      "source": [
        "cm"
      ],
      "execution_count": 35,
      "outputs": [
        {
          "output_type": "execute_result",
          "data": {
            "text/plain": [
              "array([[164,  13],\n",
              "       [ 15, 432]])"
            ]
          },
          "metadata": {
            "tags": []
          },
          "execution_count": 35
        }
      ]
    },
    {
      "cell_type": "code",
      "metadata": {
        "colab_type": "code",
        "id": "f0p_oy1fkGn7",
        "colab": {}
      },
      "source": [
        "prob=mdl.predict_proba(dftest1)"
      ],
      "execution_count": 36,
      "outputs": []
    },
    {
      "cell_type": "code",
      "metadata": {
        "id": "yDN4YoicjPSk",
        "colab_type": "code",
        "colab": {
          "base_uri": "https://localhost:8080/",
          "height": 35
        },
        "outputId": "eaaa8908-5665-42b9-9583-04f8a03e1720"
      },
      "source": [
        "from sklearn.metrics import roc_curve, auc\n",
        "# probs from log preds\n",
        "probs = np.exp(prob[:,1])\n",
        "# Compute ROC curve\n",
        "fpr, tpr, thresholds = roc_curve(lab, probs, pos_label=1)\n",
        "\n",
        "# Compute ROC area\n",
        "roc_auc = auc(fpr, tpr)\n",
        "print('ROC area is {0}'.format(roc_auc))"
      ],
      "execution_count": 37,
      "outputs": [
        {
          "output_type": "stream",
          "text": [
            "ROC area is 0.9880559663292003\n"
          ],
          "name": "stdout"
        }
      ]
    },
    {
      "cell_type": "code",
      "metadata": {
        "id": "HIDVE6ZdjinZ",
        "colab_type": "code",
        "colab": {
          "base_uri": "https://localhost:8080/",
          "height": 313
        },
        "outputId": "4d2cdf54-7c65-4ef3-d379-3ed264268cf1"
      },
      "source": [
        "plt.figure()\n",
        "plt.plot(fpr, tpr, color='darkorange', label='ROC curve (area = %0.4f)' % roc_auc)\n",
        "plt.plot([0, 1], [0, 1], color='navy', linestyle='--')\n",
        "plt.xlim([-0.01, 1.0])\n",
        "plt.ylim([0.0, 1.01])\n",
        "plt.xlabel('False Positive Rate')\n",
        "plt.ylabel('True Positive Rate')\n",
        "plt.title('Receiver operating characteristic')\n",
        "plt.legend(loc=\"lower right\")"
      ],
      "execution_count": 38,
      "outputs": [
        {
          "output_type": "execute_result",
          "data": {
            "text/plain": [
              "<matplotlib.legend.Legend at 0x7f44360be208>"
            ]
          },
          "metadata": {
            "tags": []
          },
          "execution_count": 38
        },
        {
          "output_type": "display_data",
          "data": {
            "image/png": "[encoded data removed]",
            "text/plain": [
              "<Figure size 432x288 with 1 Axes>"
            ]
          },
          "metadata": {
            "tags": [],
            "needs_background": "light"
          }
        }
      ]
    },
    {
      "cell_type": "markdown",
      "metadata": {
        "id": "-RoQEdC6r-gp",
        "colab_type": "text"
      },
      "source": [
        "Learning Curves"
      ]
    },
    {
      "cell_type": "code",
      "metadata": {
        "id": "i59-4YRXA2o7",
        "colab_type": "code",
        "colab": {
          "base_uri": "https://localhost:8080/",
          "height": 74
        },
        "outputId": "adf5904a-7bc8-49ed-d48e-e22232217a57"
      },
      "source": [
        "import seaborn\n",
        "import matplotlib.pyplot as plt\n",
        " \n",
        " \n",
        "def plot_confusion_matrix(data, labels, output_filename):\n",
        "    \"\"\"Plot confusion matrix using heatmap.\n",
        " \n",
        "    Args:\n",
        "        data (list of list): List of lists with confusion matrix data.\n",
        "        labels (list): Labels which will be plotted across x and y axis.\n",
        "        output_filename (str): Path to output file.\n",
        " \n",
        "    \"\"\"\n",
        "    seaborn.set(color_codes=True)\n",
        "    plt.figure(1, figsize=(9, 6))\n",
        " \n",
        "    plt.title(\"Confusion Matrix\")\n",
        " \n",
        "    seaborn.set(font_scale=1.4)\n",
        "    ax = seaborn.heatmap(data,  annot=True,fmt='g', cmap=\"YlGnBu\", cbar_kws={'label': 'Scale'})\n",
        " \n",
        "    ax.set_xticklabels(labels)\n",
        "    ax.set_yticklabels(labels)\n",
        " \n",
        "    ax.set(ylabel=\"True Label\", xlabel=\"Predicted Label\")\n",
        " \n",
        "    plt.savefig(output_filename, bbox_inches='tight', dpi=300)\n",
        "    plt.close()\n",
        "plot_confusion_matrix(cm, [\"Normal\",\"Pneumonia\"], \"LightGBMResnet34.png\")"
      ],
      "execution_count": 39,
      "outputs": [
        {
          "output_type": "stream",
          "text": [
            "/usr/local/lib/python3.6/dist-packages/statsmodels/tools/_testing.py:19: FutureWarning: pandas.util.testing is deprecated. Use the functions in the public API at pandas.testing instead.\n",
            "  import pandas.util.testing as tm\n"
          ],
          "name": "stderr"
        }
      ]
    },
    {
      "cell_type": "code",
      "metadata": {
        "id": "LcH-dmjZqG_m",
        "colab_type": "code",
        "colab": {}
      },
      "source": [
        ""
      ],
      "execution_count": null,
      "outputs": []
    }
  ]
}