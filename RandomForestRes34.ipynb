{
  "nbformat": 4,
  "nbformat_minor": 0,
  "metadata": {
    "colab": {
      "name": "RandomForestThesis1Res34A.ipynb",
      "provenance": [],
      "collapsed_sections": [],
      "toc_visible": true,
      "include_colab_link": true
    },
    "kernelspec": {
      "name": "python3",
      "display_name": "Python 3"
    }
  },
  "cells": [
    {
      "cell_type": "markdown",
      "metadata": {
        "id": "view-in-github",
        "colab_type": "text"
      },
      "source": [
        "<a href=\"https://colab.research.google.com/github/m-aliabbas/PnuemoniaRefined/blob/master/RandomForestRes34.ipynb\" target=\"_parent\"><img src=\"https://colab.research.google.com/assets/colab-badge.svg\" alt=\"Open In Colab\"/></a>"
      ]
    },
    {
      "cell_type": "markdown",
      "metadata": {
        "id": "GVT2R9Gla-1B",
        "colab_type": "text"
      },
      "source": [
        "# Data Loading  and Libraries Import"
      ]
    },
    {
      "cell_type": "code",
      "metadata": {
        "id": "XNqv7h7zuYnH",
        "colab_type": "code",
        "colab": {
          "base_uri": "https://localhost:8080/",
          "height": 129
        },
        "outputId": "0c6e6097-57f8-4b9e-9b7c-71cde21b10a9"
      },
      "source": [
        "# Load the Drive helper and mount\n",
        "from google.colab import drive\n",
        "\n",
        "# This will prompt for authorization.\n",
        "drive.mount('/content/drive')"
      ],
      "execution_count": 1,
      "outputs": [
        {
          "output_type": "stream",
          "text": [
            "Go to this URL in a browser: https://accounts.google.com/o/oauth2/auth?client_id=947318989803-6bn6qk8qdgf4n4g3pfee6491hc0brc4i.apps.googleusercontent.com&redirect_uri=urn%3aietf%3awg%3aoauth%3a2.0%3aoob&response_type=code&scope=email%20https%3a%2f%2fwww.googleapis.com%2fauth%2fdocs.test%20https%3a%2f%2fwww.googleapis.com%2fauth%2fdrive%20https%3a%2f%2fwww.googleapis.com%2fauth%2fdrive.photos.readonly%20https%3a%2f%2fwww.googleapis.com%2fauth%2fpeopleapi.readonly\n",
            "\n",
            "Enter your authorization code:\n",
            "··········\n",
            "Mounted at /content/drive\n"
          ],
          "name": "stdout"
        }
      ]
    },
    {
      "cell_type": "code",
      "metadata": {
        "id": "dmXQ2AyYum0E",
        "colab_type": "code",
        "colab": {
          "base_uri": "https://localhost:8080/",
          "height": 1000
        },
        "outputId": "635e176c-9934-47e3-e660-bc924a6f55da"
      },
      "source": [
        "!ls '/content/drive/My Drive/'"
      ],
      "execution_count": 2,
      "outputs": [
        {
          "output_type": "stream",
          "text": [
            "'14042020 (1).xlsx'\n",
            " 14042020.gform\n",
            " 14042020.gsheet\n",
            "'14042020Part1Ali (1).gsheet'\n",
            " 14042020Part1Ali.gsheet\n",
            " 14042020.xlsx\n",
            " 16042020.gsheet\n",
            " 20170330_110326.jpg\n",
            "'3_9_2018 11_47 Office Lens (1).jpg'\n",
            "'3_9_2018 11_48 Office Lens.jpg'\n",
            "'5th & 8th Grade Exam 2018.xlsx'\n",
            "'5th & 8th Grade Exam 2018.xlsx.gsheet'\n",
            " aa.gsheet\n",
            " Aamir_resarch.gdoc\n",
            "'Admission Information.xlsx'\n",
            "'Advance AI Mid Term Revised.gdoc'\n",
            "'AdvanceAI(TicTacToe)Assignment.gdoc'\n",
            "'Ahmad Performa for the Result Comparison for last__________.gdoc'\n",
            " ahmed\n",
            "'AIFinalPaper Mohammad Alli Abbas.gdoc'\n",
            "'AI Models Details.gdoc'\n",
            " AIPaper.gdoc\n",
            " AlexNetActualPne1\n",
            " AlexNetLRPne1\n",
            " AlexNetPne\n",
            "'Anomalies for remarks from DMO office.xlsx'\n",
            "'AP 21 Manual.gdoc'\n",
            "'AP_Data (10).gsheet'\n",
            "'AP_Data (11).gsheet'\n",
            "'AP_Data (12).gsheet'\n",
            "'AP_Data (13).gsheet'\n",
            "'AP_Data (14).gsheet'\n",
            "'AP_Data (15).gsheet'\n",
            "'AP_Data (16).gsheet'\n",
            "'AP_Data (17).gsheet'\n",
            "'AP_Data (18).gsheet'\n",
            "'AP_Data (1).gsheet'\n",
            "'AP_Data (2).gsheet'\n",
            "'AP_Data (3).gsheet'\n",
            "'AP_Data (4).gsheet'\n",
            "'AP_Data (5).gsheet'\n",
            "'AP_Data (6).gsheet'\n",
            "'AP_Data (7).gsheet'\n",
            "'AP_Data (8).gsheet'\n",
            "'AP_Data (9).gsheet'\n",
            " AP_Data.gsheet\n",
            " Application.gdoc\n",
            "'august 2016 6309 1.docx'\n",
            "'Background Knowdledge .gdoc'\n",
            "'ban on mobile phone.jpg'\n",
            " bestmodel.pth\n",
            "'BS-17 Male Order No.15934 P-2.jpg'\n",
            "'Budget Month of March 2019-CY--6473.xlsx'\n",
            " cancer1.pth\n",
            "'Chakwal (1).gsheet'\n",
            "'Chakwal (1).xlsx'\n",
            " chestXRay.zip\n",
            "'CITIZEN PORTEL COMPLAIN PENDING SALARY.gsheet'\n",
            "'CITIZEN PORTEL COMPLAIN PENDING SALARY.xlsx'\n",
            " Classroom\n",
            "'Class Wise Enrollment as on 08.05.2018 (1).xlsx.gsheet'\n",
            "'Class Wise Enrollment as on 08.05.2018 (2).xlsx.gsheet'\n",
            "'Class Wise Enrollment as on 08.05.2018.xlsx'\n",
            "'Class Wise Enrollment as on 08.05.2018.xlsx.gsheet'\n",
            "'Colab Notebooks'\n",
            "'Combine (1).gsheet'\n",
            "'Combine (2).gsheet'\n",
            " CombineDataset\n",
            " CombinedDataset\n",
            " Combine.gsheet\n",
            " combine_xray.zip\n",
            " Comparasion.xlsx\n",
            " Comp.gsheet\n",
            "'Complete list of schools with anomalies (1).xlsx'\n",
            "'Computer Teacher Demand.gsheet'\n",
            "'Computer Teacher Demand.xlsx'\n",
            "'Conflicts of interest Statment.gdoc'\n",
            "'Conflicts of interest Statment.pdf'\n",
            " convert_to_hepmc.py\n",
            "'Copy of Resnet101BlindFinal.pth'\n",
            "'Copy of Untitled Diagram (1).drawio'\n",
            "'Copy of Untitled Diagram.drawio'\n",
            " CoronaVirus.gdoc\n",
            " Covid19Data.gdoc\n",
            "'Covid19Report (1).gdoc'\n",
            " Covid19Report.docx\n",
            " Covid19Report.gdoc\n",
            " covid-chestxray-dataset\n",
            " covidRes18.csv\n",
            "'CovidResults .gsheet'\n",
            " CovidResults.gsheet\n",
            " CSV-Nomenclautre-04142020.gsheet\n",
            " CSVSimulation\n",
            "\"daily visitors' proforma.inp\"\n",
            " dataCov.zip\n",
            " dataset18New.csv\n",
            " dataset18NewTest.csv\n",
            " dataset34NewA.csv\n",
            " dataset34New.csv\n",
            " dataset34NewTest.csv\n",
            " datasetCombinedRes18O.csv\n",
            " datasetCombinedRes34Bal.csv\n",
            " datasetCombinedRes34.csv\n",
            " datasetCombinedRes34O.csv\n",
            " datasetNIHRes18.csv\n",
            " datasetNIHRes34.csv\n",
            " DCIv1.cs.gdoc\n",
            "'December Test Islamyat G5 & Urdu G8 Keys Rubrics.rar'\n",
            " Dense121LRPne1\n",
            " DenseNet121Pne1\n",
            " DenseNetActualPne1\n",
            "'Documentation V2_2.gdoc'\n",
            "'Document from suffvaughn.docx'\n",
            "'Document from suffvaughn.gdoc'\n",
            " dropout1.gsheet\n",
            "'ECE Enrollment Proforma.xlsx'\n",
            "'ECE Enrollment Proforma.xlsx.gsheet'\n",
            "'Electricity Bill (1).gsheet'\n",
            "'Electricity Bill.gsheet'\n",
            "'Electricity Bill.xlsx'\n",
            "'Enrollment Analysis.xlsx'\n",
            "'EST SESE Sci Math status Format.docx'\n",
            "'EST SESE Sci Math status Format.gdoc'\n",
            " FeatureExtractionResnet34IA.ipynb\n",
            " FinalComp.gsheet\n",
            "'Final list of Schools with anomalies and clarifications.xlsx'\n",
            " forcomplianceofdutyofsupervisorystaffforsscannual.zip\n",
            "'Formate of Expenditure (2).xls'\n",
            "'Future Plan Expenditure (1).gdoc'\n",
            "'Future Plan Expenditure.gdoc'\n",
            "'Future Plan Expenditure.pdf'\n",
            "'Getting started.pdf'\n",
            "'GHS Misrial'\n",
            " GHSMISRIAL.gsheet\n",
            " GoogleNetActualPne1\n",
            "'Grade 3 Class.rar'\n",
            " GradientBoosting.ipynb\n",
            "'Hadayat for Head of Institution.inp'\n",
            "'Headmaster Association.pdf'\n",
            " history.csv\n",
            "'Hybrid Algorithm for Medical Image Classification.gdoc'\n",
            "'Hybrid Algorithms multiple datasets-converted.gdoc'\n",
            "'Hybrid Algorithms multiple datasets.gdoc'\n",
            "'Hybrid Algorithms multiple datasets.pdf'\n",
            "'ImageAnnotationVersion (1).docx'\n",
            "'ImageAnnotationVersion (1).gdoc'\n",
            " ImageAnnotationVersion.docx\n",
            " ImageAnnotationVersion.gdoc\n",
            " IMG_20171023_141856.jpg\n",
            " IMG_20171023_141930.jpg\n",
            " IMG_20171023_141955.jpg\n",
            " IMG_20171128_084825.jpg\n",
            " IMG_20171227_142513.jpg\n",
            " IMG_20180119_121303.jpg\n",
            " IMG-20180306-WA0062.jpg\n",
            " IMG_20180318_114536.jpg\n",
            "'IMG-20181201-WA0024[1].jpg'\n",
            " IMG-20190111-WA0044.jpg\n",
            " InceptionLRPne1\n",
            " InceptionNetPne\n",
            " Information.xlsx\n",
            " Information.xlsx.gsheet\n",
            " inputFile.gsheet\n",
            "'Instruction of Transfer.jpg'\n",
            " Instructions.gdoc\n",
            "'Instruction to Resolve Error.gdoc'\n",
            " Introduction.docx\n",
            " kaggle.json\n",
            "'Keys & Rubrics of Urdu G5 and Islamiyat G8 6-12-16.rar'\n",
            "'Land etc.docx'\n",
            " Letter1.jpg\n",
            "'List of participants PEELI ISLAMABAD.xlsx'\n",
            "'LungsCancerDetection (1).docx'\n",
            "'LungsCancerDetectionFinal (1).gdoc'\n",
            " LungsCancerDetectionFinal.docx\n",
            " LungsCancerDetectionFinal.gdoc\n",
            " LungsCancerDetection.gdoc\n",
            " mail.xlsx\n",
            "'Manual ScreenCapture .gdoc'\n",
            " merge1.gsheet\n",
            " merge.gsheet\n",
            " Methdology.png\n",
            "'MIGRATION OF AFGHAN STUDENTS.docx'\n",
            " MissingFacilities.gsheet\n",
            " MobileActualPne1\n",
            " MobileLRPne1\n",
            " MobilePne1\n",
            " model3.pth\n",
            "'Model Papers English 2017.rar'\n",
            " modelTrade\n",
            "'MonthlyDakApril2020 (2).gsheet'\n",
            "'MonthlyDakDec (1).gsheet'\n",
            "'MonthlyDakDec (2).gsheet'\n",
            "'MonthlyDakDec (3).gsheet'\n",
            "'MonthlyDakDec (4).gsheet'\n",
            " MonthlyDakDec.gsheet\n",
            " MonthlyDakDec.xlsx\n",
            " MonthlyDakJan2020.gsheet\n",
            "'MonthlyDakJuly (1).gsheet'\n",
            "'MonthlyDak July2020.gsheet'\n",
            " MonthlyDakJuly.gsheet\n",
            " MonthlyDakJuly.xlsx\n",
            "'MonthlyDak June2020.gsheet'\n",
            " MonthlyDakJune.gsheet\n",
            "'MonthlyDakMarch2020 (1) (1).gsheet'\n",
            "'MonthlyDakMarch2020 (1) (1).xlsx'\n",
            "'MonthlyDakMarch2020 (1).gsheet'\n",
            "'MonthlyDakMarch2020 (1).xlsx'\n",
            "'MonthlyDakMarch2020 (2) (1).gsheet'\n",
            "'MonthlyDakMarch2020 (2) (1).xlsx'\n",
            "'MonthlyDakMarch2020 (2) (2).gsheet'\n",
            "'MonthlyDakMarch2020 (2) (2).xlsx'\n",
            "'MonthlyDakMarch2020 (2) (3).gsheet'\n",
            "'MonthlyDakMarch2020 (2) (3).xlsx'\n",
            "'MonthlyDakMarch2020 (2) (4).gsheet'\n",
            "'MonthlyDakMarch2020 (2) (4).xlsx'\n",
            "'MonthlyDakMarch2020 (2) (5).xlsx'\n",
            "'MonthlyDakMarch2020 (2) (6).xlsx'\n",
            "'MonthlyDakMarch2020 (2).gsheet'\n",
            "'MonthlyDakMarch2020 (2).xlsx'\n",
            " MonthlyDakMarch2020.gsheet\n",
            " MonthlyDakMarch.gsheet\n",
            " MonthlyDakMarch.xlsx\n",
            "'MonthlyDakNov (1).gsheet'\n",
            " MonthlyDakNov.gsheet\n",
            " MonthlyDakNov.xlsx\n",
            "'Monthly Dak.xlsx'\n",
            "'monthly report of NSB (1).xlsx'\n",
            "'monthly report of NSB (1).xlsx.gsheet'\n",
            "'monthly report of NSB.gsheet'\n",
            "'monthly report of NSB.xlsx'\n",
            "'monthly report of NSB.xlsx.gsheet'\n",
            "'MSCS Thesis synopsis .gdoc'\n",
            "'MSCS Thesis synopsis Reviesed (Version2).docx'\n",
            "'MSCS Thesis synopsis Reviesed (Version2).gdoc'\n",
            "'MSCS Thesis synopsis Reviesed (Version3).gdoc'\n",
            "'New Doc_1.jpg'\n",
            "'New Enrollment as on  23.4.2018.xlsx'\n",
            "'New Enrollment as on  23.4.2018.xlsx.gsheet'\n",
            "'New PROFORMA UPE & USE DAILY REPORT 2016.xlsx'\n",
            "'NewStaffStatement (1).gsheet'\n",
            " NewStaffStatement.gsheet\n",
            "'Notification of Head Teachers 002.jpg'\n",
            "'NSB Monthaly Utilization Report.gsheet'\n",
            "'nsb performa new 2019-20 (1).gsheet'\n",
            "'nsb performa new 2019-20.gsheet'\n",
            "'nsb performa new 2019-20.xlsx'\n",
            "'nsb proforma.xlsx'\n",
            "'nsb proforma.xlsx.gsheet'\n",
            "'NSBReport2017-2019 (1).gsheet'\n",
            "'NSBReport2017-2019 (2).gsheet'\n",
            " NSBReport2017-2019.gsheet\n",
            " NSBReport2017-2019.xlsx\n",
            " output.xlsx\n",
            "'Paper1 (2) (1).gdoc'\n",
            "'Paper1 (2).docx'\n",
            "'Paper1 (2).gdoc'\n",
            "'Pay Detail 2019-20.gsheet'\n",
            "'Pay Detail 2019-20.xlsx'\n",
            "'Pending Approvals-2018.gsheet'\n",
            " Pneumonia\n",
            "'Pnuemonia Paper Fina;.gdoc'\n",
            "'Pnuemonia Paper Introduction (1).docx'\n",
            "'Pnuemonia Paper Introduction.docx'\n",
            "'Pnuemonia Paper Introduction.gdoc'\n",
            "'proforma (1).zip'\n",
            "'Proforma for Merit.xlsx'\n",
            "'Proforma for seniority.gsheet'\n",
            "'Proforma for seniority.xlsx'\n",
            "'Proforma - Regular SSTs GHS Misrial.xlsx'\n",
            "'Proforma - Regular SSTs patwali.gsheet'\n",
            "'Proforma - Regular SSTs patwali.xlsx'\n",
            "'Proformas (1).xlsx.gsheet'\n",
            " Proformas.xlsx\n",
            " Proformas.xlsx.gsheet\n",
            " ProposalForSadqaApp.gdoc\n",
            "'Purchase of Tablet PCs for Public Schools.zip'\n",
            " QaziAhmed.gdoc\n",
            "'Qazi AI Paper.gdoc'\n",
            " RandomForestThesis1.ipynb\n",
            " RandomForestThesis.ipynb\n",
            " Remaining.xls\n",
            "'Report of UPE as on 28.05.2019.gsheet'\n",
            "'Report of UPE as on 28.05.2019.xlsx'\n",
            " Res101ActualPne1\n",
            " Res101LRPne1\n",
            " Res152ActualPne1\n",
            " Res152LRPne1\n",
            " Res18ActualPne1\n",
            " Res18.gsheet\n",
            " Res18LRPne1\n",
            " Res34ActualPne1\n",
            " Res34LRPne1\n",
            " Res50ActualPne1\n",
            " Res50LRPne1\n",
            "'ResearchMethdology of stomic task.gdoc'\n",
            " ResearchPaperPattern.gdoc\n",
            " Res.gsheet\n",
            " Resnet101BlindFinal.pth\n",
            " Resnet101Pne\n",
            " Resnet152Pne1\n",
            " resnet18Covid.csv\n",
            " resnet18CovidImbalance.csv\n",
            " resnet18CovidMulti.csv\n",
            " resnet18CovidMultiImbalance1.csv\n",
            " Resnet18PneO\n",
            " resnet34Covid.csv\n",
            " resnet34CovidImbalance.csv\n",
            " resnet34CovidMulti.csv\n",
            " resnet34CovidMultiImbalance1.csv\n",
            " Resnet34Pne\n",
            " ResNet34Result.gdoc\n",
            " Resnet50Pne1\n",
            " result12\n",
            " result5\n",
            " ResultComparisionWithKaggle.gsheet\n",
            " ResultsColonData.gsheet\n",
            "'Results of Model Transfer Learning .gsheet'\n",
            "'Result SSC Proforma 2019 (1).gsheet'\n",
            "'Result SSC Proforma 2019.gsheet'\n",
            "'Result SSC Proforma 2019.xlsx'\n",
            "'Revision of Electoral Roll.jpg'\n",
            "'Salary slip ( 30696833 July , 2016 ).PDF'\n",
            "'Sample test paper Grade 5.pdf'\n",
            "'Schoolwise Result .gsheet'\n",
            "'Sentiment Analysis of Comments-1.docx'\n",
            "'Sentiment Analysis of Comments-1.gdoc'\n",
            "'Service Certificate.gdoc'\n",
            " shape_predictor_68_face_landmarks.dat.bz2\n",
            " Short.zip\n",
            " ShuffleNetActualPne1\n",
            " ShuffleNetPne\n",
            "'Snap Capturing Guide.gdoc'\n",
            " ss\n",
            "'Staff Statement 2017.xlsx'\n",
            "'Staff Statement.gsheet'\n",
            " StaffStatement.gsheet\n",
            "'Staff Statement.xls'\n",
            " stage2Final.pth\n",
            " StudentBetween3and7.xlsx\n",
            "'Summary A Survey: Algorithms simulating bee swarm intelligence.gdoc'\n",
            " SummaryOfResearchPapers.gdoc\n",
            " SynopsisPresentation.gslides\n",
            "'TagDocumenation for Don.gdoc'\n",
            " Tag.rar\n",
            " TAGRevised1.zip\n",
            " TAGRevised.zip\n",
            " TAGv1.zip\n",
            " Tag.zip\n",
            "'Teacher Wise SSC Result 2016.xlsx'\n",
            " Techniques.gdoc\n",
            "'Time Table Careiver P-3.jpg'\n",
            " TMI-Template.gdoc\n",
            "'To-do list.gsheet'\n",
            " tree.zip\n",
            "'Untitled Diagram (1).drawio'\n",
            "'Untitled Diagram (2).drawio'\n",
            "'Untitled Diagram (3).drawio'\n",
            "'Untitled Diagram.drawio'\n",
            "'Untitled Diagram.jpg'\n",
            "'Untitled Diagram.pdf'\n",
            "'Untitled Diagram.png'\n",
            "'Untitled Diagram.svg'\n",
            "'Untitled document (10).gdoc'\n",
            "'Untitled document (1) (1).gdoc'\n",
            "'Untitled document (11).gdoc'\n",
            "'Untitled document (12).gdoc'\n",
            "'Untitled document (1).gdoc'\n",
            "'Untitled document (2).gdoc'\n",
            "'Untitled document (3).gdoc'\n",
            "'Untitled document (4).gdoc'\n",
            "'Untitled document (5).gdoc'\n",
            "'Untitled document (6).gdoc'\n",
            "'Untitled document (7).gdoc'\n",
            "'Untitled document (8).gdoc'\n",
            "'Untitled document (9).gdoc'\n",
            "'Untitled document - Column chart 2.gsheet'\n",
            "'Untitled document.gdoc'\n",
            "'Untitled document.pdf'\n",
            "'Untitled document - Pie chart 1.gsheet'\n",
            "'Untitled drawing.gdraw'\n",
            "'Untitled presentation.gslides'\n",
            "'Untitled Site.gsite'\n",
            "'Untitled spreadsheet (1) (1).gsheet'\n",
            "'Untitled spreadsheet (1).gsheet'\n",
            "'Untitled spreadsheet (2).gsheet'\n",
            "'Untitled spreadsheet (3).gsheet'\n",
            "'Untitled spreadsheet (4).gsheet'\n",
            "'Untitled spreadsheet (5).gsheet'\n",
            "'Untitled spreadsheet (6).gsheet'\n",
            "'Untitled spreadsheet (7).gsheet'\n",
            "'Untitled spreadsheet (8).gsheet'\n",
            "'Untitled spreadsheet (9).gsheet'\n",
            "'Untitled spreadsheet.gsheet'\n",
            "'Untitled spreadsheet.xlsx'\n",
            "'Usama AI Paper.gdoc'\n",
            "'VACANCY POSATION  COST CENTER WISE (1).gsheet'\n",
            "'VACANCY POSATION  COST CENTER WISE (1).xlsx'\n",
            "'VACANCY POSATION  COST CENTER WISE (2).gsheet'\n",
            "'VACANCY POSATION  COST CENTER WISE.gsheet'\n",
            "'VACANCY POSATION  COST CENTER WISE.xlsx'\n",
            "'Vacancy Position-200515.gsheet'\n",
            "'vacancy postion JAN (1).gdoc'\n",
            " VGG16ActualPne1\n",
            " VGG16LRPne1\n",
            " VGG16Pne1\n",
            " VGG19ActualPne1\n",
            " VGG1Pne1\n",
            "'Voice Control Car.gdoc'\n",
            "'vp format (1) (1).gsheet'\n",
            "'vp format (1) (2).gsheet'\n",
            "'vp format (1).gsheet'\n",
            "'vp format (1).xlsx'\n",
            "'vp format (2) (1).gsheet'\n",
            "'vp format (2).gsheet'\n",
            "'vp format (2).xls'\n",
            "'vp format.gsheet'\n",
            "'vp format.xlsx'\n"
          ],
          "name": "stdout"
        }
      ]
    },
    {
      "cell_type": "markdown",
      "metadata": {
        "id": "WoneR45szzNy",
        "colab_type": "text"
      },
      "source": [
        "Importing Libararies"
      ]
    },
    {
      "cell_type": "code",
      "metadata": {
        "id": "QjlL6gyEuwCT",
        "colab_type": "code",
        "colab": {}
      },
      "source": [
        "import numpy as np\n",
        "import matplotlib.pyplot as plt\n",
        "import pandas as pd\n",
        "# Importing the dataset\n"
      ],
      "execution_count": 3,
      "outputs": []
    },
    {
      "cell_type": "markdown",
      "metadata": {
        "id": "sH6all_KbKDG",
        "colab_type": "text"
      },
      "source": [
        "# Preprocessing Data"
      ]
    },
    {
      "cell_type": "code",
      "metadata": {
        "id": "vzG8_WP7uynY",
        "colab_type": "code",
        "colab": {}
      },
      "source": [
        "dataset = pd.read_csv('/content/drive/My Drive/dataset34NewA.csv')\n",
        "dataset = pd.get_dummies(dataset)"
      ],
      "execution_count": 7,
      "outputs": []
    },
    {
      "cell_type": "code",
      "metadata": {
        "id": "M1ajGCVavH2O",
        "colab_type": "code",
        "colab": {
          "base_uri": "https://localhost:8080/",
          "height": 35
        },
        "outputId": "cd281ba1-f5e9-484c-855a-500bafa634ba"
      },
      "source": [
        "dataset.shape"
      ],
      "execution_count": 8,
      "outputs": [
        {
          "output_type": "execute_result",
          "data": {
            "text/plain": [
              "(5856, 513)"
            ]
          },
          "metadata": {
            "tags": []
          },
          "execution_count": 8
        }
      ]
    },
    {
      "cell_type": "code",
      "metadata": {
        "id": "nAgx5mAPvYTW",
        "colab_type": "code",
        "colab": {}
      },
      "source": [
        "labels = np.array(dataset['label'])"
      ],
      "execution_count": 9,
      "outputs": []
    },
    {
      "cell_type": "code",
      "metadata": {
        "id": "n1YPV1MAv4C0",
        "colab_type": "code",
        "colab": {}
      },
      "source": [
        "dataset= dataset.drop('label', axis = 1)"
      ],
      "execution_count": 10,
      "outputs": []
    },
    {
      "cell_type": "code",
      "metadata": {
        "id": "_OGPWH7yv_IP",
        "colab_type": "code",
        "colab": {}
      },
      "source": [
        "feature_list = list(dataset.columns)"
      ],
      "execution_count": 11,
      "outputs": []
    },
    {
      "cell_type": "code",
      "metadata": {
        "id": "8IDLzlTiwEjv",
        "colab_type": "code",
        "colab": {}
      },
      "source": [
        "features = np.array(dataset)"
      ],
      "execution_count": 12,
      "outputs": []
    },
    {
      "cell_type": "code",
      "metadata": {
        "id": "OM7nSY21wIWA",
        "colab_type": "code",
        "colab": {
          "base_uri": "https://localhost:8080/",
          "height": 35
        },
        "outputId": "f7f47db1-da1e-46aa-bfbd-20b22d6744cd"
      },
      "source": [
        "features.shape"
      ],
      "execution_count": 13,
      "outputs": [
        {
          "output_type": "execute_result",
          "data": {
            "text/plain": [
              "(5856, 512)"
            ]
          },
          "metadata": {
            "tags": []
          },
          "execution_count": 13
        }
      ]
    },
    {
      "cell_type": "markdown",
      "metadata": {
        "id": "VdYzX0F5bVuU",
        "colab_type": "text"
      },
      "source": [
        "# Splitting to train and Test Set"
      ]
    },
    {
      "cell_type": "markdown",
      "metadata": {
        "id": "8FH24vzKbdA0",
        "colab_type": "text"
      },
      "source": [
        "# Training Random Forest Classifier"
      ]
    },
    {
      "cell_type": "code",
      "metadata": {
        "id": "HuN23nQBw7jx",
        "colab_type": "code",
        "colab": {
          "base_uri": "https://localhost:8080/",
          "height": 164
        },
        "outputId": "240bd036-471c-4de1-b9de-2e7c58ff9723"
      },
      "source": [
        "from sklearn.preprocessing import StandardScaler\n",
        "sc = StandardScaler()  \n",
        "train_features = sc.fit_transform(train_features)  \n",
        "test_features = sc.transform(test_features)  \n",
        "from sklearn.ensemble import RandomForestRegressor\n",
        "from sklearn.ensemble import RandomForestClassifier\n",
        "# Instantiate model with 1000 decision trees\n",
        "clf1 = RandomForestClassifier(n_estimators=1200, max_depth=14,random_state=42,oob_score=True,min_weight_fraction_leaf=0.15)\n",
        "# Train the model on training data\n",
        "clf1.fit(train_features, train_labels)"
      ],
      "execution_count": 27,
      "outputs": [
        {
          "output_type": "execute_result",
          "data": {
            "text/plain": [
              "RandomForestClassifier(bootstrap=True, ccp_alpha=0.0, class_weight=None,\n",
              "                       criterion='gini', max_depth=14, max_features='auto',\n",
              "                       max_leaf_nodes=None, max_samples=None,\n",
              "                       min_impurity_decrease=0.0, min_impurity_split=None,\n",
              "                       min_samples_leaf=1, min_samples_split=2,\n",
              "                       min_weight_fraction_leaf=0.15, n_estimators=1200,\n",
              "                       n_jobs=None, oob_score=True, random_state=42, verbose=0,\n",
              "                       warm_start=False)"
            ]
          },
          "metadata": {
            "tags": []
          },
          "execution_count": 27
        }
      ]
    },
    {
      "cell_type": "code",
      "metadata": {
        "id": "dsdlq6L6TamZ",
        "colab_type": "code",
        "colab": {}
      },
      "source": [
        "dfTest = pd.read_csv('/content/drive/My Drive/dataset34NewTest.csv')"
      ],
      "execution_count": 28,
      "outputs": []
    },
    {
      "cell_type": "code",
      "metadata": {
        "id": "29xRY6nSUcRP",
        "colab_type": "code",
        "colab": {
          "base_uri": "https://localhost:8080/",
          "height": 35
        },
        "outputId": "7729ef7d-cfe5-409b-8111-44301b4e0cf3"
      },
      "source": [
        "dfTest.shape"
      ],
      "execution_count": 24,
      "outputs": [
        {
          "output_type": "execute_result",
          "data": {
            "text/plain": [
              "(624, 513)"
            ]
          },
          "metadata": {
            "tags": []
          },
          "execution_count": 24
        }
      ]
    },
    {
      "cell_type": "code",
      "metadata": {
        "colab_type": "code",
        "id": "-NqcSErlTxST",
        "colab": {}
      },
      "source": [
        "test_labels = np.array(dfTest['label'])"
      ],
      "execution_count": 25,
      "outputs": []
    },
    {
      "cell_type": "code",
      "metadata": {
        "colab_type": "code",
        "id": "44HiZPllTxSl",
        "colab": {}
      },
      "source": [
        "dfTest= dfTest.drop('label', axis = 1)"
      ],
      "execution_count": 26,
      "outputs": []
    },
    {
      "cell_type": "code",
      "metadata": {
        "colab_type": "code",
        "id": "wstiOQV7TxSv",
        "colab": {}
      },
      "source": [
        "test_feature_list = list(dfTest.columns)"
      ],
      "execution_count": 27,
      "outputs": []
    },
    {
      "cell_type": "code",
      "metadata": {
        "id": "Y8wiOWloTi30",
        "colab_type": "code",
        "colab": {}
      },
      "source": [
        "test_features = np.array(dfTest)"
      ],
      "execution_count": 28,
      "outputs": []
    },
    {
      "cell_type": "code",
      "metadata": {
        "id": "jzAykUOVUE0i",
        "colab_type": "code",
        "colab": {
          "base_uri": "https://localhost:8080/",
          "height": 35
        },
        "outputId": "83affe1b-08a3-49ca-9b8e-38dd504709d3"
      },
      "source": [
        "test_features.shape"
      ],
      "execution_count": 29,
      "outputs": [
        {
          "output_type": "execute_result",
          "data": {
            "text/plain": [
              "(624, 512)"
            ]
          },
          "metadata": {
            "tags": []
          },
          "execution_count": 29
        }
      ]
    },
    {
      "cell_type": "markdown",
      "metadata": {
        "id": "0BnDGRujfPe9",
        "colab_type": "text"
      },
      "source": [
        ""
      ]
    },
    {
      "cell_type": "markdown",
      "metadata": {
        "id": "Sk_JKkbDbirp",
        "colab_type": "text"
      },
      "source": [
        "# Testing on Unseen Data"
      ]
    },
    {
      "cell_type": "code",
      "metadata": {
        "id": "dW_RY3MwxH7V",
        "colab_type": "code",
        "colab": {
          "base_uri": "https://localhost:8080/",
          "height": 237
        },
        "outputId": "9c6f788f-3cdb-4ddc-eda3-f4e33348c1ca"
      },
      "source": [
        "from sklearn.metrics import confusion_matrix\n",
        "conf=confusion_matrix(test_labels, clf1.predict(test_features));\n",
        "from sklearn.metrics import classification_report, confusion_matrix, accuracy_score\n",
        "\n",
        "print(confusion_matrix(test_labels, clf1.predict(test_features)))  \n",
        "print(classification_report(test_labels, clf1.predict(test_features)))  \n",
        "print(accuracy_score(test_labels, clf1.predict(test_features)))  "
      ],
      "execution_count": 29,
      "outputs": [
        {
          "output_type": "stream",
          "text": [
            "[[147  17]\n",
            " [ 14 446]]\n",
            "              precision    recall  f1-score   support\n",
            "\n",
            "           0       0.91      0.90      0.90       164\n",
            "           1       0.96      0.97      0.97       460\n",
            "\n",
            "    accuracy                           0.95       624\n",
            "   macro avg       0.94      0.93      0.94       624\n",
            "weighted avg       0.95      0.95      0.95       624\n",
            "\n",
            "0.9503205128205128\n"
          ],
          "name": "stdout"
        }
      ]
    },
    {
      "cell_type": "code",
      "metadata": {
        "colab_type": "code",
        "id": "f0p_oy1fkGn7",
        "colab": {}
      },
      "source": [
        "prob=clf1.predict_proba(test_features)"
      ],
      "execution_count": 30,
      "outputs": []
    },
    {
      "cell_type": "code",
      "metadata": {
        "id": "yDN4YoicjPSk",
        "colab_type": "code",
        "colab": {
          "base_uri": "https://localhost:8080/",
          "height": 35
        },
        "outputId": "3f3aa4dd-0b72-4f01-8854-494a3088385f"
      },
      "source": [
        "from sklearn.metrics import roc_curve, auc\n",
        "# probs from log preds\n",
        "probs = np.exp(prob[:,1])\n",
        "# Compute ROC curve\n",
        "fpr, tpr, thresholds = roc_curve(test_labels, probs, pos_label=1)\n",
        "\n",
        "# Compute ROC area\n",
        "roc_auc = auc(fpr, tpr)\n",
        "print('ROC area is {0}'.format(roc_auc))"
      ],
      "execution_count": 31,
      "outputs": [
        {
          "output_type": "stream",
          "text": [
            "ROC area is 0.9832714740190881\n"
          ],
          "name": "stdout"
        }
      ]
    },
    {
      "cell_type": "code",
      "metadata": {
        "id": "HIDVE6ZdjinZ",
        "colab_type": "code",
        "colab": {
          "base_uri": "https://localhost:8080/",
          "height": 313
        },
        "outputId": "c7eaa0b8-82dd-493c-c935-0985d2a8816f"
      },
      "source": [
        "plt.figure()\n",
        "plt.plot(fpr, tpr, color='darkorange', label='ROC curve (area = %0.4f)' % roc_auc)\n",
        "plt.plot([0, 1], [0, 1], color='navy', linestyle='--')\n",
        "plt.xlim([-0.01, 1.0])\n",
        "plt.ylim([0.0, 1.01])\n",
        "plt.xlabel('False Positive Rate')\n",
        "plt.ylabel('True Positive Rate')\n",
        "plt.title('Receiver operating characteristic')\n",
        "plt.legend(loc=\"lower right\")"
      ],
      "execution_count": 32,
      "outputs": [
        {
          "output_type": "execute_result",
          "data": {
            "text/plain": [
              "<matplotlib.legend.Legend at 0x7f66c3fc5c50>"
            ]
          },
          "metadata": {
            "tags": []
          },
          "execution_count": 32
        },
        {
          "output_type": "display_data",
          "data": {
            "image/png": "[encoded data removed]",
            "text/plain": [
              "<Figure size 432x288 with 1 Axes>"
            ]
          },
          "metadata": {
            "tags": [],
            "needs_background": "light"
          }
        }
      ]
    },
    {
      "cell_type": "code",
      "metadata": {
        "id": "psg2GWB2pZ3W",
        "colab_type": "code",
        "colab": {}
      },
      "source": [
        "import seaborn\n",
        "import matplotlib.pyplot as plt\n",
        " \n",
        " \n",
        "def plot_confusion_matrix(data, labels, output_filename):\n",
        "    \"\"\"Plot confusion matrix using heatmap.\n",
        " \n",
        "    Args:\n",
        "        data (list of list): List of lists with confusion matrix data.\n",
        "        labels (list): Labels which will be plotted across x and y axis.\n",
        "        output_filename (str): Path to output file.\n",
        " \n",
        "    \"\"\"\n",
        "    seaborn.set(color_codes=True)\n",
        "    plt.figure(1, figsize=(9, 6))\n",
        " \n",
        "    plt.title(\"Confusion Matrix\")\n",
        " \n",
        "    seaborn.set(font_scale=1.4)\n",
        "    ax = seaborn.heatmap(data,  annot=True,fmt='g', cmap=\"YlGnBu\", cbar_kws={'label': 'Scale'})\n",
        " \n",
        "    ax.set_xticklabels(labels)\n",
        "    ax.set_yticklabels(labels)\n",
        " \n",
        "    ax.set(ylabel=\"True Label\", xlabel=\"Predicted Label\")\n",
        " \n",
        "    plt.savefig(output_filename, bbox_inches='tight', dpi=300)\n",
        "    plt.close()\n",
        "plot_confusion_matrix(conf, [\"Normal\",\"Pneumonia\"], \"RandomForestResnet34.png\")"
      ],
      "execution_count": 34,
      "outputs": []
    },
    {
      "cell_type": "code",
      "metadata": {
        "id": "CK0uxXWVdYmf",
        "colab_type": "code",
        "colab": {}
      },
      "source": [
        ""
      ],
      "execution_count": null,
      "outputs": []
    }
  ]
}