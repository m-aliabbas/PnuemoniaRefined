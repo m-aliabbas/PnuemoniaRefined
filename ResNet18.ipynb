{
  "nbformat": 4,
  "nbformat_minor": 0,
  "metadata": {
    "colab": {
      "name": "ResearchPaperResnet18Actual.ipynb",
      "provenance": [],
      "collapsed_sections": [],
      "include_colab_link": true
    },
    "kernelspec": {
      "name": "python3",
      "display_name": "Python 3"
    },
    "accelerator": "GPU",
    "widgets": {
      "application/vnd.jupyter.widget-state+json": {
        "f26d159bab5e4f71a63281bd8e6e4820": {
          "model_module": "@jupyter-widgets/controls",
          "model_name": "HBoxModel",
          "state": {
            "_view_name": "HBoxView",
            "_dom_classes": [],
            "_model_name": "HBoxModel",
            "_view_module": "@jupyter-widgets/controls",
            "_model_module_version": "1.5.0",
            "_view_count": null,
            "_view_module_version": "1.5.0",
            "box_style": "",
            "layout": "IPY_MODEL_4e0d3c7ae34c45368782a4ce96ecebf8",
            "_model_module": "@jupyter-widgets/controls",
            "children": [
              "IPY_MODEL_b8ffe5ce85cf40c587e6bc130b93b1a5",
              "IPY_MODEL_ac443ae58ad5477cb8aaebf95c09026b"
            ]
          }
        },
        "4e0d3c7ae34c45368782a4ce96ecebf8": {
          "model_module": "@jupyter-widgets/base",
          "model_name": "LayoutModel",
          "state": {
            "_view_name": "LayoutView",
            "grid_template_rows": null,
            "right": null,
            "justify_content": null,
            "_view_module": "@jupyter-widgets/base",
            "overflow": null,
            "_model_module_version": "1.2.0",
            "_view_count": null,
            "flex_flow": null,
            "width": null,
            "min_width": null,
            "border": null,
            "align_items": null,
            "bottom": null,
            "_model_module": "@jupyter-widgets/base",
            "top": null,
            "grid_column": null,
            "overflow_y": null,
            "overflow_x": null,
            "grid_auto_flow": null,
            "grid_area": null,
            "grid_template_columns": null,
            "flex": null,
            "_model_name": "LayoutModel",
            "justify_items": null,
            "grid_row": null,
            "max_height": null,
            "align_content": null,
            "visibility": null,
            "align_self": null,
            "height": null,
            "min_height": null,
            "padding": null,
            "grid_auto_rows": null,
            "grid_gap": null,
            "max_width": null,
            "order": null,
            "_view_module_version": "1.2.0",
            "grid_template_areas": null,
            "object_position": null,
            "object_fit": null,
            "grid_auto_columns": null,
            "margin": null,
            "display": null,
            "left": null
          }
        },
        "b8ffe5ce85cf40c587e6bc130b93b1a5": {
          "model_module": "@jupyter-widgets/controls",
          "model_name": "FloatProgressModel",
          "state": {
            "_view_name": "ProgressView",
            "style": "IPY_MODEL_9fc5870fb25d4d47995cae5efc71433b",
            "_dom_classes": [],
            "description": "100%",
            "_model_name": "FloatProgressModel",
            "bar_style": "success",
            "max": 46827520,
            "_view_module": "@jupyter-widgets/controls",
            "_model_module_version": "1.5.0",
            "value": 46827520,
            "_view_count": null,
            "_view_module_version": "1.5.0",
            "orientation": "horizontal",
            "min": 0,
            "description_tooltip": null,
            "_model_module": "@jupyter-widgets/controls",
            "layout": "IPY_MODEL_ef8e6d3cf89e431494324dee38a206d7"
          }
        },
        "ac443ae58ad5477cb8aaebf95c09026b": {
          "model_module": "@jupyter-widgets/controls",
          "model_name": "HTMLModel",
          "state": {
            "_view_name": "HTMLView",
            "style": "IPY_MODEL_7aa124a0be904945b4ac7d3ddabcf91e",
            "_dom_classes": [],
            "description": "",
            "_model_name": "HTMLModel",
            "placeholder": "​",
            "_view_module": "@jupyter-widgets/controls",
            "_model_module_version": "1.5.0",
            "value": " 44.7M/44.7M [00:00&lt;00:00, 169MB/s]",
            "_view_count": null,
            "_view_module_version": "1.5.0",
            "description_tooltip": null,
            "_model_module": "@jupyter-widgets/controls",
            "layout": "IPY_MODEL_3a3e42bd987642cf84bbd5480d51ddb0"
          }
        },
        "9fc5870fb25d4d47995cae5efc71433b": {
          "model_module": "@jupyter-widgets/controls",
          "model_name": "ProgressStyleModel",
          "state": {
            "_view_name": "StyleView",
            "_model_name": "ProgressStyleModel",
            "description_width": "initial",
            "_view_module": "@jupyter-widgets/base",
            "_model_module_version": "1.5.0",
            "_view_count": null,
            "_view_module_version": "1.2.0",
            "bar_color": null,
            "_model_module": "@jupyter-widgets/controls"
          }
        },
        "ef8e6d3cf89e431494324dee38a206d7": {
          "model_module": "@jupyter-widgets/base",
          "model_name": "LayoutModel",
          "state": {
            "_view_name": "LayoutView",
            "grid_template_rows": null,
            "right": null,
            "justify_content": null,
            "_view_module": "@jupyter-widgets/base",
            "overflow": null,
            "_model_module_version": "1.2.0",
            "_view_count": null,
            "flex_flow": null,
            "width": null,
            "min_width": null,
            "border": null,
            "align_items": null,
            "bottom": null,
            "_model_module": "@jupyter-widgets/base",
            "top": null,
            "grid_column": null,
            "overflow_y": null,
            "overflow_x": null,
            "grid_auto_flow": null,
            "grid_area": null,
            "grid_template_columns": null,
            "flex": null,
            "_model_name": "LayoutModel",
            "justify_items": null,
            "grid_row": null,
            "max_height": null,
            "align_content": null,
            "visibility": null,
            "align_self": null,
            "height": null,
            "min_height": null,
            "padding": null,
            "grid_auto_rows": null,
            "grid_gap": null,
            "max_width": null,
            "order": null,
            "_view_module_version": "1.2.0",
            "grid_template_areas": null,
            "object_position": null,
            "object_fit": null,
            "grid_auto_columns": null,
            "margin": null,
            "display": null,
            "left": null
          }
        },
        "7aa124a0be904945b4ac7d3ddabcf91e": {
          "model_module": "@jupyter-widgets/controls",
          "model_name": "DescriptionStyleModel",
          "state": {
            "_view_name": "StyleView",
            "_model_name": "DescriptionStyleModel",
            "description_width": "",
            "_view_module": "@jupyter-widgets/base",
            "_model_module_version": "1.5.0",
            "_view_count": null,
            "_view_module_version": "1.2.0",
            "_model_module": "@jupyter-widgets/controls"
          }
        },
        "3a3e42bd987642cf84bbd5480d51ddb0": {
          "model_module": "@jupyter-widgets/base",
          "model_name": "LayoutModel",
          "state": {
            "_view_name": "LayoutView",
            "grid_template_rows": null,
            "right": null,
            "justify_content": null,
            "_view_module": "@jupyter-widgets/base",
            "overflow": null,
            "_model_module_version": "1.2.0",
            "_view_count": null,
            "flex_flow": null,
            "width": null,
            "min_width": null,
            "border": null,
            "align_items": null,
            "bottom": null,
            "_model_module": "@jupyter-widgets/base",
            "top": null,
            "grid_column": null,
            "overflow_y": null,
            "overflow_x": null,
            "grid_auto_flow": null,
            "grid_area": null,
            "grid_template_columns": null,
            "flex": null,
            "_model_name": "LayoutModel",
            "justify_items": null,
            "grid_row": null,
            "max_height": null,
            "align_content": null,
            "visibility": null,
            "align_self": null,
            "height": null,
            "min_height": null,
            "padding": null,
            "grid_auto_rows": null,
            "grid_gap": null,
            "max_width": null,
            "order": null,
            "_view_module_version": "1.2.0",
            "grid_template_areas": null,
            "object_position": null,
            "object_fit": null,
            "grid_auto_columns": null,
            "margin": null,
            "display": null,
            "left": null
          }
        }
      }
    }
  },
  "cells": [
    {
      "cell_type": "markdown",
      "metadata": {
        "id": "view-in-github",
        "colab_type": "text"
      },
      "source": [
        "<a href=\"https://colab.research.google.com/github/m-aliabbas/PnuemoniaRefined/blob/master/ResNet18.ipynb\" target=\"_parent\"><img src=\"https://colab.research.google.com/assets/colab-badge.svg\" alt=\"Open In Colab\"/></a>"
      ]
    },
    {
      "cell_type": "code",
      "metadata": {
        "id": "gBB3Ll-njzgm",
        "colab_type": "code",
        "colab": {
          "base_uri": "https://localhost:8080/",
          "height": 129
        },
        "outputId": "35c97f0c-590d-4af6-eeb1-141d1fc0492b"
      },
      "source": [
        "# Load the Drive helper and mount\n",
        "from google.colab import drive\n",
        "\n",
        "# This will prompt for authorization.\n",
        "drive.mount('/content/drive')"
      ],
      "execution_count": 1,
      "outputs": [
        {
          "output_type": "stream",
          "text": [
            "Go to this URL in a browser: https://accounts.google.com/o/oauth2/auth?client_id=947318989803-6bn6qk8qdgf4n4g3pfee6491hc0brc4i.apps.googleusercontent.com&redirect_uri=urn%3aietf%3awg%3aoauth%3a2.0%3aoob&response_type=code&scope=email%20https%3a%2f%2fwww.googleapis.com%2fauth%2fdocs.test%20https%3a%2f%2fwww.googleapis.com%2fauth%2fdrive%20https%3a%2f%2fwww.googleapis.com%2fauth%2fdrive.photos.readonly%20https%3a%2f%2fwww.googleapis.com%2fauth%2fpeopleapi.readonly\n",
            "\n",
            "Enter your authorization code:\n",
            "··········\n",
            "Mounted at /content/drive\n"
          ],
          "name": "stdout"
        }
      ]
    },
    {
      "cell_type": "code",
      "metadata": {
        "id": "iRAnuT3vU0Hz",
        "colab_type": "code",
        "colab": {
          "base_uri": "https://localhost:8080/",
          "height": 329
        },
        "outputId": "d76ef43a-d5db-4d24-dc3b-77decc371f4f"
      },
      "source": [
        "!pip install \"torch==1.4\" \"torchvision==0.5.0\""
      ],
      "execution_count": 2,
      "outputs": [
        {
          "output_type": "stream",
          "text": [
            "Collecting torch==1.4\n",
            "\u001b[?25l  Downloading https://files.pythonhosted.org/packages/24/19/4804aea17cd136f1705a5e98a00618cb8f6ccc375ad8bfa437408e09d058/torch-1.4.0-cp36-cp36m-manylinux1_x86_64.whl (753.4MB)\n",
            "\u001b[K     |████████████████████████████████| 753.4MB 22kB/s \n",
            "\u001b[?25hCollecting torchvision==0.5.0\n",
            "\u001b[?25l  Downloading https://files.pythonhosted.org/packages/7e/90/6141bf41f5655c78e24f40f710fdd4f8a8aff6c8b7c6f0328240f649bdbe/torchvision-0.5.0-cp36-cp36m-manylinux1_x86_64.whl (4.0MB)\n",
            "\u001b[K     |████████████████████████████████| 4.0MB 30.5MB/s \n",
            "\u001b[?25hRequirement already satisfied: numpy in /usr/local/lib/python3.6/dist-packages (from torchvision==0.5.0) (1.18.5)\n",
            "Requirement already satisfied: pillow>=4.1.1 in /usr/local/lib/python3.6/dist-packages (from torchvision==0.5.0) (7.0.0)\n",
            "Requirement already satisfied: six in /usr/local/lib/python3.6/dist-packages (from torchvision==0.5.0) (1.15.0)\n",
            "Installing collected packages: torch, torchvision\n",
            "  Found existing installation: torch 1.6.0+cu101\n",
            "    Uninstalling torch-1.6.0+cu101:\n",
            "      Successfully uninstalled torch-1.6.0+cu101\n",
            "  Found existing installation: torchvision 0.7.0+cu101\n",
            "    Uninstalling torchvision-0.7.0+cu101:\n",
            "      Successfully uninstalled torchvision-0.7.0+cu101\n",
            "Successfully installed torch-1.4.0 torchvision-0.5.0\n"
          ],
          "name": "stdout"
        }
      ]
    },
    {
      "cell_type": "code",
      "metadata": {
        "id": "MruWNMl5kcTj",
        "colab_type": "code",
        "colab": {}
      },
      "source": [
        "\n",
        "from fastai.vision import *\n",
        "import os\n",
        "import matplotlib.pyplot as plt\n",
        "import matplotlib.image as mpimg"
      ],
      "execution_count": 3,
      "outputs": []
    },
    {
      "cell_type": "code",
      "metadata": {
        "id": "VRU9HPbYkmqM",
        "colab_type": "code",
        "colab": {}
      },
      "source": [
        "from zipfile import ZipFile \n",
        "def unZip(file_name):\n",
        "  with ZipFile(file_name, 'r') as zip: \n",
        "      zip.extractall() \n",
        "      print('Done!') "
      ],
      "execution_count": 4,
      "outputs": []
    },
    {
      "cell_type": "code",
      "metadata": {
        "id": "-vBi93P3koL8",
        "colab_type": "code",
        "colab": {}
      },
      "source": [
        "file_name = '/content/drive/chestXRay.zip'"
      ],
      "execution_count": 5,
      "outputs": []
    },
    {
      "cell_type": "code",
      "metadata": {
        "id": "3L4ZtbdyT-dk",
        "colab_type": "code",
        "colab": {
          "base_uri": "https://localhost:8080/",
          "height": 35
        },
        "outputId": "e1de8716-9ed0-4b54-c247-ede2bb246f5b"
      },
      "source": [
        "!ls"
      ],
      "execution_count": 6,
      "outputs": [
        {
          "output_type": "stream",
          "text": [
            "drive  sample_data\n"
          ],
          "name": "stdout"
        }
      ]
    },
    {
      "cell_type": "code",
      "metadata": {
        "id": "AD77rju9kpWJ",
        "colab_type": "code",
        "colab": {}
      },
      "source": [
        "path=\"/content/drive/My Drive/\"\n",
        "file_name=path+'chestXRay.zip'"
      ],
      "execution_count": 7,
      "outputs": []
    },
    {
      "cell_type": "code",
      "metadata": {
        "id": "JgaJJIBrks8H",
        "colab_type": "code",
        "colab": {
          "base_uri": "https://localhost:8080/",
          "height": 35
        },
        "outputId": "fea4a762-481e-4a25-808e-6367a04c466d"
      },
      "source": [
        "unZip(file_name)"
      ],
      "execution_count": 8,
      "outputs": [
        {
          "output_type": "stream",
          "text": [
            "Done!\n"
          ],
          "name": "stdout"
        }
      ]
    },
    {
      "cell_type": "code",
      "metadata": {
        "id": "p-Eu3yZzlc2q",
        "colab_type": "code",
        "colab": {
          "base_uri": "https://localhost:8080/",
          "height": 35
        },
        "outputId": "6308607f-31e2-4eb6-a097-2bc2b7bd1640"
      },
      "source": [
        "unZip('chest_xray.zip')"
      ],
      "execution_count": 9,
      "outputs": [
        {
          "output_type": "stream",
          "text": [
            "Done!\n"
          ],
          "name": "stdout"
        }
      ]
    },
    {
      "cell_type": "code",
      "metadata": {
        "id": "VA1uq7KUl5TN",
        "colab_type": "code",
        "colab": {}
      },
      "source": [
        "import glob\n",
        "import cv2\n",
        "import numpy as np\n",
        "%matplotlib inline\n",
        "filesPos= sorted(glob.glob('chest_xray/train/NORMAL/*.jpeg'))\n",
        "filesPos+=sorted(glob.glob('chest_xray/val/NORMAL/*.jpeg'))\n",
        "# filesPos+=sorted(glob.glob('chest_xray/test/NORMAL/*.jpeg'))\n",
        "\n"
      ],
      "execution_count": 10,
      "outputs": []
    },
    {
      "cell_type": "code",
      "metadata": {
        "id": "UDGZ2iRQFr3a",
        "colab_type": "code",
        "colab": {}
      },
      "source": [
        "filesNeg=sorted(glob.glob('chest_xray/train/PNEUMONIA/*.jpeg'))\n",
        "filesNeg+=sorted(glob.glob('chest_xray/val/PNEUMONIA/*.jpeg'))\n",
        "# filesNeg+=sorted(glob.glob('chest_xray/test/PNEUMONIA/*.jpeg'))"
      ],
      "execution_count": 11,
      "outputs": []
    },
    {
      "cell_type": "code",
      "metadata": {
        "id": "2BvmH6BpG057",
        "colab_type": "code",
        "colab": {
          "base_uri": "https://localhost:8080/",
          "height": 35
        },
        "outputId": "14e445dd-7f06-4a50-d08b-aa90a8ec68ef"
      },
      "source": [
        "random.shuffle(filesNeg)\n",
        "len(filesPos),len(filesNeg)"
      ],
      "execution_count": 12,
      "outputs": [
        {
          "output_type": "execute_result",
          "data": {
            "text/plain": [
              "(1349, 3883)"
            ]
          },
          "metadata": {
            "tags": []
          },
          "execution_count": 12
        }
      ]
    },
    {
      "cell_type": "code",
      "metadata": {
        "id": "GrOdEeuCh0lS",
        "colab_type": "code",
        "colab": {}
      },
      "source": [
        "pos_labels=[[i,0] for i in filesPos]\n",
        "neg_labels=[[i,1] for i in filesNeg]\n",
        "ds=pos_labels+neg_labels"
      ],
      "execution_count": 13,
      "outputs": []
    },
    {
      "cell_type": "code",
      "metadata": {
        "id": "soUFYiC0kCo6",
        "colab_type": "code",
        "colab": {}
      },
      "source": [
        "np.random.seed(4200)\n",
        "import pandas as pd \n",
        "df = pd.DataFrame(ds,columns =['path', 'label']) \n",
        "def Randomizing(df):\n",
        "    df2 = df.reindex(np.random.permutation(df.index))\n",
        "    return df2\n",
        "df=Randomizing(df)"
      ],
      "execution_count": 14,
      "outputs": []
    },
    {
      "cell_type": "code",
      "metadata": {
        "id": "9ky29FobUXKh",
        "colab_type": "code",
        "colab": {
          "base_uri": "https://localhost:8080/",
          "height": 424
        },
        "outputId": "142dd30e-0870-4ab9-9854-6a1d8556d550"
      },
      "source": [
        "df"
      ],
      "execution_count": 15,
      "outputs": [
        {
          "output_type": "execute_result",
          "data": {
            "text/html": [
              "<div>\n",
              "<style scoped>\n",
              "    .dataframe tbody tr th:only-of-type {\n",
              "        vertical-align: middle;\n",
              "    }\n",
              "\n",
              "    .dataframe tbody tr th {\n",
              "        vertical-align: top;\n",
              "    }\n",
              "\n",
              "    .dataframe thead th {\n",
              "        text-align: right;\n",
              "    }\n",
              "</style>\n",
              "<table border=\"1\" class=\"dataframe\">\n",
              "  <thead>\n",
              "    <tr style=\"text-align: right;\">\n",
              "      <th></th>\n",
              "      <th>path</th>\n",
              "      <th>label</th>\n",
              "    </tr>\n",
              "  </thead>\n",
              "  <tbody>\n",
              "    <tr>\n",
              "      <th>2964</th>\n",
              "      <td>chest_xray/train/PNEUMONIA/person644_virus_122...</td>\n",
              "      <td>1</td>\n",
              "    </tr>\n",
              "    <tr>\n",
              "      <th>1075</th>\n",
              "      <td>chest_xray/train/NORMAL/NORMAL2-IM-1049-0001.jpeg</td>\n",
              "      <td>0</td>\n",
              "    </tr>\n",
              "    <tr>\n",
              "      <th>1928</th>\n",
              "      <td>chest_xray/train/PNEUMONIA/person990_bacteria_...</td>\n",
              "      <td>1</td>\n",
              "    </tr>\n",
              "    <tr>\n",
              "      <th>854</th>\n",
              "      <td>chest_xray/train/NORMAL/NORMAL2-IM-0774-0001.jpeg</td>\n",
              "      <td>0</td>\n",
              "    </tr>\n",
              "    <tr>\n",
              "      <th>1298</th>\n",
              "      <td>chest_xray/train/NORMAL/NORMAL2-IM-1323-0001.jpeg</td>\n",
              "      <td>0</td>\n",
              "    </tr>\n",
              "    <tr>\n",
              "      <th>...</th>\n",
              "      <td>...</td>\n",
              "      <td>...</td>\n",
              "    </tr>\n",
              "    <tr>\n",
              "      <th>2607</th>\n",
              "      <td>chest_xray/train/PNEUMONIA/person831_bacteria_...</td>\n",
              "      <td>1</td>\n",
              "    </tr>\n",
              "    <tr>\n",
              "      <th>1293</th>\n",
              "      <td>chest_xray/train/NORMAL/NORMAL2-IM-1318-0001.jpeg</td>\n",
              "      <td>0</td>\n",
              "    </tr>\n",
              "    <tr>\n",
              "      <th>2034</th>\n",
              "      <td>chest_xray/train/PNEUMONIA/person1625_bacteria...</td>\n",
              "      <td>1</td>\n",
              "    </tr>\n",
              "    <tr>\n",
              "      <th>3534</th>\n",
              "      <td>chest_xray/train/PNEUMONIA/person867_bacteria_...</td>\n",
              "      <td>1</td>\n",
              "    </tr>\n",
              "    <tr>\n",
              "      <th>2387</th>\n",
              "      <td>chest_xray/train/PNEUMONIA/person134_virus_268...</td>\n",
              "      <td>1</td>\n",
              "    </tr>\n",
              "  </tbody>\n",
              "</table>\n",
              "<p>5232 rows × 2 columns</p>\n",
              "</div>"
            ],
            "text/plain": [
              "                                                   path  label\n",
              "2964  chest_xray/train/PNEUMONIA/person644_virus_122...      1\n",
              "1075  chest_xray/train/NORMAL/NORMAL2-IM-1049-0001.jpeg      0\n",
              "1928  chest_xray/train/PNEUMONIA/person990_bacteria_...      1\n",
              "854   chest_xray/train/NORMAL/NORMAL2-IM-0774-0001.jpeg      0\n",
              "1298  chest_xray/train/NORMAL/NORMAL2-IM-1323-0001.jpeg      0\n",
              "...                                                 ...    ...\n",
              "2607  chest_xray/train/PNEUMONIA/person831_bacteria_...      1\n",
              "1293  chest_xray/train/NORMAL/NORMAL2-IM-1318-0001.jpeg      0\n",
              "2034  chest_xray/train/PNEUMONIA/person1625_bacteria...      1\n",
              "3534  chest_xray/train/PNEUMONIA/person867_bacteria_...      1\n",
              "2387  chest_xray/train/PNEUMONIA/person134_virus_268...      1\n",
              "\n",
              "[5232 rows x 2 columns]"
            ]
          },
          "metadata": {
            "tags": []
          },
          "execution_count": 15
        }
      ]
    },
    {
      "cell_type": "code",
      "metadata": {
        "id": "RFZfv_C8HyNR",
        "colab_type": "code",
        "colab": {}
      },
      "source": [
        "dfTrain=df"
      ],
      "execution_count": 16,
      "outputs": []
    },
    {
      "cell_type": "code",
      "metadata": {
        "id": "3dO7Oq3CTBt3",
        "colab_type": "code",
        "colab": {}
      },
      "source": [
        "bs =8\n",
        "sz=224\n",
        "tfms = get_transforms(do_flip=True,flip_vert=True,max_lighting=0.4,max_zoom=1.1)\n",
        "src = (ImageList.from_df(df=dfTrain,path='',cols='path') #get dataset from dataset\n",
        "        .split_by_rand_pct(0.2) #Splitting the dataset\n",
        "        .label_from_df(cols='label') #obtain labels from the level column\n",
        "      )\n",
        "data= (src.transform(tfms,size=224,padding_mode='zeros') #Data augmentation\n",
        "        .databunch(bs=bs,num_workers=4) #DataBunch\n",
        "        .normalize(imagenet_stats) #Normalize     \n",
        "       )"
      ],
      "execution_count": 17,
      "outputs": []
    },
    {
      "cell_type": "code",
      "metadata": {
        "id": "dYUszAmctZ2_",
        "colab_type": "code",
        "colab": {
          "base_uri": "https://localhost:8080/",
          "height": 35
        },
        "outputId": "8de9b51f-e643-4096-996f-1078579d9b1f"
      },
      "source": [
        "data.classes"
      ],
      "execution_count": 18,
      "outputs": [
        {
          "output_type": "execute_result",
          "data": {
            "text/plain": [
              "[0, 1]"
            ]
          },
          "metadata": {
            "tags": []
          },
          "execution_count": 18
        }
      ]
    },
    {
      "cell_type": "code",
      "metadata": {
        "id": "UR7RePYIuTqo",
        "colab_type": "code",
        "colab": {
          "base_uri": "https://localhost:8080/",
          "height": 441
        },
        "outputId": "81f03e90-3501-4d57-c6fb-c294a9f6bc11"
      },
      "source": [
        "data.show_batch(rows=3, figsize=(10,6), hide_axis=False)"
      ],
      "execution_count": 19,
      "outputs": [
        {
          "output_type": "display_data",
          "data": {
            "image/png": "[encoded data removed]",
            "text/plain": [
              "<Figure size 720x432 with 9 Axes>"
            ]
          },
          "metadata": {
            "tags": [],
            "needs_background": "light"
          }
        }
      ]
    },
    {
      "cell_type": "code",
      "metadata": {
        "id": "5fm1PMQ3Wdzi",
        "colab_type": "code",
        "colab": {}
      },
      "source": [
        "from sklearn.metrics import roc_auc_score,f1_score\n",
        "def f1_score_a(y_pred,y_true,tens=True):\n",
        "#     score=roc_auc_score(y_true,torch.sigmoid(y_pred)[:,1])\n",
        "    f1a_score=f1_score(y_true, np.round(torch.sigmoid(y_pred)[:,1]), average='macro') \n",
        "    if tens:\n",
        "#         score=tensor(score)\n",
        "        f1a_score=tensor(f1a_score)\n",
        "    else:\n",
        "        f1a_score=f1a_score\n",
        "    return f1a_score\n"
      ],
      "execution_count": 20,
      "outputs": []
    },
    {
      "cell_type": "code",
      "metadata": {
        "id": "L-0NDob8u2dV",
        "colab_type": "code",
        "colab": {
          "base_uri": "https://localhost:8080/",
          "height": 86,
          "referenced_widgets": [
            "f26d159bab5e4f71a63281bd8e6e4820",
            "4e0d3c7ae34c45368782a4ce96ecebf8",
            "b8ffe5ce85cf40c587e6bc130b93b1a5",
            "ac443ae58ad5477cb8aaebf95c09026b",
            "9fc5870fb25d4d47995cae5efc71433b",
            "ef8e6d3cf89e431494324dee38a206d7",
            "7aa124a0be904945b4ac7d3ddabcf91e",
            "3a3e42bd987642cf84bbd5480d51ddb0"
          ]
        },
        "outputId": "43f88fab-51a2-4df1-b031-bc6b74c9aef4"
      },
      "source": [
        "\n",
        "import torch \n",
        "import torchvision\n",
        "model = torchvision.models.resnet18(pretrained=True)"
      ],
      "execution_count": 21,
      "outputs": [
        {
          "output_type": "stream",
          "text": [
            "Downloading: \"https://download.pytorch.org/models/resnet18-5c106cde.pth\" to /root/.cache/torch/checkpoints/resnet18-5c106cde.pth\n"
          ],
          "name": "stderr"
        },
        {
          "output_type": "display_data",
          "data": {
            "application/vnd.jupyter.widget-view+json": {
              "model_id": "f26d159bab5e4f71a63281bd8e6e4820",
              "version_minor": 0,
              "version_major": 2
            },
            "text/plain": [
              "HBox(children=(FloatProgress(value=0.0, max=46827520.0), HTML(value='')))"
            ]
          },
          "metadata": {
            "tags": []
          }
        },
        {
          "output_type": "stream",
          "text": [
            "\n"
          ],
          "name": "stdout"
        }
      ]
    },
    {
      "cell_type": "code",
      "metadata": {
        "id": "FzwIe3O0lx56",
        "colab_type": "code",
        "colab": {}
      },
      "source": [
        "num_ftrs = model.fc.in_features\n",
        "model.fc=nn.Sequential(\n",
        "    nn.Dropout(0.3),\n",
        "    nn.Linear(num_ftrs, 128),\n",
        "    nn.Dropout(0.5),\n",
        "    nn.Linear(128, 2),\n",
        "    \n",
        ")"
      ],
      "execution_count": 22,
      "outputs": []
    },
    {
      "cell_type": "code",
      "metadata": {
        "id": "ko6XIpmqn3C9",
        "colab_type": "code",
        "colab": {}
      },
      "source": [
        "model=model.cuda()"
      ],
      "execution_count": 23,
      "outputs": []
    },
    {
      "cell_type": "markdown",
      "metadata": {
        "id": "4Jye0gkA6Lbh",
        "colab_type": "text"
      },
      "source": [
        ""
      ]
    },
    {
      "cell_type": "code",
      "metadata": {
        "id": "0EKgGpOvMTgd",
        "colab_type": "code",
        "colab": {}
      },
      "source": [
        "model=model.cuda()"
      ],
      "execution_count": 24,
      "outputs": []
    },
    {
      "cell_type": "code",
      "metadata": {
        "id": "EBQIa6MtwLuM",
        "colab_type": "code",
        "colab": {}
      },
      "source": [
        "from fastai.callbacks import *\n",
        "\n",
        "learn = Learner(data, model, metrics=[error_rate, accuracy],callback_fns=[partial(CSVLogger,append=True)])"
      ],
      "execution_count": 25,
      "outputs": []
    },
    {
      "cell_type": "code",
      "metadata": {
        "id": "DKMpdfmnXWs2",
        "colab_type": "code",
        "colab": {}
      },
      "source": [
        ""
      ],
      "execution_count": 25,
      "outputs": []
    },
    {
      "cell_type": "code",
      "metadata": {
        "id": "lgidKceYkpjK",
        "colab_type": "code",
        "colab": {}
      },
      "source": [
        ""
      ],
      "execution_count": 25,
      "outputs": []
    },
    {
      "cell_type": "code",
      "metadata": {
        "id": "n0P_56JhYT8v",
        "colab_type": "code",
        "colab": {
          "base_uri": "https://localhost:8080/",
          "height": 1000
        },
        "outputId": "d8739e54-2805-4ba6-a80e-f374f0e309e5"
      },
      "source": [
        "learn"
      ],
      "execution_count": 26,
      "outputs": [
        {
          "output_type": "execute_result",
          "data": {
            "text/plain": [
              "Learner(data=ImageDataBunch;\n",
              "\n",
              "Train: LabelList (4186 items)\n",
              "x: ImageList\n",
              "Image (3, 224, 224),Image (3, 224, 224),Image (3, 224, 224),Image (3, 224, 224),Image (3, 224, 224)\n",
              "y: CategoryList\n",
              "1,0,1,0,0\n",
              "Path: .;\n",
              "\n",
              "Valid: LabelList (1046 items)\n",
              "x: ImageList\n",
              "Image (3, 224, 224),Image (3, 224, 224),Image (3, 224, 224),Image (3, 224, 224),Image (3, 224, 224)\n",
              "y: CategoryList\n",
              "1,0,1,1,1\n",
              "Path: .;\n",
              "\n",
              "Test: None, model=ResNet(\n",
              "  (conv1): Conv2d(3, 64, kernel_size=(7, 7), stride=(2, 2), padding=(3, 3), bias=False)\n",
              "  (bn1): BatchNorm2d(64, eps=1e-05, momentum=0.1, affine=True, track_running_stats=True)\n",
              "  (relu): ReLU(inplace=True)\n",
              "  (maxpool): MaxPool2d(kernel_size=3, stride=2, padding=1, dilation=1, ceil_mode=False)\n",
              "  (layer1): Sequential(\n",
              "    (0): BasicBlock(\n",
              "      (conv1): Conv2d(64, 64, kernel_size=(3, 3), stride=(1, 1), padding=(1, 1), bias=False)\n",
              "      (bn1): BatchNorm2d(64, eps=1e-05, momentum=0.1, affine=True, track_running_stats=True)\n",
              "      (relu): ReLU(inplace=True)\n",
              "      (conv2): Conv2d(64, 64, kernel_size=(3, 3), stride=(1, 1), padding=(1, 1), bias=False)\n",
              "      (bn2): BatchNorm2d(64, eps=1e-05, momentum=0.1, affine=True, track_running_stats=True)\n",
              "    )\n",
              "    (1): BasicBlock(\n",
              "      (conv1): Conv2d(64, 64, kernel_size=(3, 3), stride=(1, 1), padding=(1, 1), bias=False)\n",
              "      (bn1): BatchNorm2d(64, eps=1e-05, momentum=0.1, affine=True, track_running_stats=True)\n",
              "      (relu): ReLU(inplace=True)\n",
              "      (conv2): Conv2d(64, 64, kernel_size=(3, 3), stride=(1, 1), padding=(1, 1), bias=False)\n",
              "      (bn2): BatchNorm2d(64, eps=1e-05, momentum=0.1, affine=True, track_running_stats=True)\n",
              "    )\n",
              "  )\n",
              "  (layer2): Sequential(\n",
              "    (0): BasicBlock(\n",
              "      (conv1): Conv2d(64, 128, kernel_size=(3, 3), stride=(2, 2), padding=(1, 1), bias=False)\n",
              "      (bn1): BatchNorm2d(128, eps=1e-05, momentum=0.1, affine=True, track_running_stats=True)\n",
              "      (relu): ReLU(inplace=True)\n",
              "      (conv2): Conv2d(128, 128, kernel_size=(3, 3), stride=(1, 1), padding=(1, 1), bias=False)\n",
              "      (bn2): BatchNorm2d(128, eps=1e-05, momentum=0.1, affine=True, track_running_stats=True)\n",
              "      (downsample): Sequential(\n",
              "        (0): Conv2d(64, 128, kernel_size=(1, 1), stride=(2, 2), bias=False)\n",
              "        (1): BatchNorm2d(128, eps=1e-05, momentum=0.1, affine=True, track_running_stats=True)\n",
              "      )\n",
              "    )\n",
              "    (1): BasicBlock(\n",
              "      (conv1): Conv2d(128, 128, kernel_size=(3, 3), stride=(1, 1), padding=(1, 1), bias=False)\n",
              "      (bn1): BatchNorm2d(128, eps=1e-05, momentum=0.1, affine=True, track_running_stats=True)\n",
              "      (relu): ReLU(inplace=True)\n",
              "      (conv2): Conv2d(128, 128, kernel_size=(3, 3), stride=(1, 1), padding=(1, 1), bias=False)\n",
              "      (bn2): BatchNorm2d(128, eps=1e-05, momentum=0.1, affine=True, track_running_stats=True)\n",
              "    )\n",
              "  )\n",
              "  (layer3): Sequential(\n",
              "    (0): BasicBlock(\n",
              "      (conv1): Conv2d(128, 256, kernel_size=(3, 3), stride=(2, 2), padding=(1, 1), bias=False)\n",
              "      (bn1): BatchNorm2d(256, eps=1e-05, momentum=0.1, affine=True, track_running_stats=True)\n",
              "      (relu): ReLU(inplace=True)\n",
              "      (conv2): Conv2d(256, 256, kernel_size=(3, 3), stride=(1, 1), padding=(1, 1), bias=False)\n",
              "      (bn2): BatchNorm2d(256, eps=1e-05, momentum=0.1, affine=True, track_running_stats=True)\n",
              "      (downsample): Sequential(\n",
              "        (0): Conv2d(128, 256, kernel_size=(1, 1), stride=(2, 2), bias=False)\n",
              "        (1): BatchNorm2d(256, eps=1e-05, momentum=0.1, affine=True, track_running_stats=True)\n",
              "      )\n",
              "    )\n",
              "    (1): BasicBlock(\n",
              "      (conv1): Conv2d(256, 256, kernel_size=(3, 3), stride=(1, 1), padding=(1, 1), bias=False)\n",
              "      (bn1): BatchNorm2d(256, eps=1e-05, momentum=0.1, affine=True, track_running_stats=True)\n",
              "      (relu): ReLU(inplace=True)\n",
              "      (conv2): Conv2d(256, 256, kernel_size=(3, 3), stride=(1, 1), padding=(1, 1), bias=False)\n",
              "      (bn2): BatchNorm2d(256, eps=1e-05, momentum=0.1, affine=True, track_running_stats=True)\n",
              "    )\n",
              "  )\n",
              "  (layer4): Sequential(\n",
              "    (0): BasicBlock(\n",
              "      (conv1): Conv2d(256, 512, kernel_size=(3, 3), stride=(2, 2), padding=(1, 1), bias=False)\n",
              "      (bn1): BatchNorm2d(512, eps=1e-05, momentum=0.1, affine=True, track_running_stats=True)\n",
              "      (relu): ReLU(inplace=True)\n",
              "      (conv2): Conv2d(512, 512, kernel_size=(3, 3), stride=(1, 1), padding=(1, 1), bias=False)\n",
              "      (bn2): BatchNorm2d(512, eps=1e-05, momentum=0.1, affine=True, track_running_stats=True)\n",
              "      (downsample): Sequential(\n",
              "        (0): Conv2d(256, 512, kernel_size=(1, 1), stride=(2, 2), bias=False)\n",
              "        (1): BatchNorm2d(512, eps=1e-05, momentum=0.1, affine=True, track_running_stats=True)\n",
              "      )\n",
              "    )\n",
              "    (1): BasicBlock(\n",
              "      (conv1): Conv2d(512, 512, kernel_size=(3, 3), stride=(1, 1), padding=(1, 1), bias=False)\n",
              "      (bn1): BatchNorm2d(512, eps=1e-05, momentum=0.1, affine=True, track_running_stats=True)\n",
              "      (relu): ReLU(inplace=True)\n",
              "      (conv2): Conv2d(512, 512, kernel_size=(3, 3), stride=(1, 1), padding=(1, 1), bias=False)\n",
              "      (bn2): BatchNorm2d(512, eps=1e-05, momentum=0.1, affine=True, track_running_stats=True)\n",
              "    )\n",
              "  )\n",
              "  (avgpool): AdaptiveAvgPool2d(output_size=(1, 1))\n",
              "  (fc): Sequential(\n",
              "    (0): Dropout(p=0.3, inplace=False)\n",
              "    (1): Linear(in_features=512, out_features=128, bias=True)\n",
              "    (2): Dropout(p=0.5, inplace=False)\n",
              "    (3): Linear(in_features=128, out_features=2, bias=True)\n",
              "  )\n",
              "), opt_func=functools.partial(<class 'torch.optim.adam.Adam'>, betas=(0.9, 0.99)), loss_func=FlattenedLoss of CrossEntropyLoss(), metrics=[<function error_rate at 0x7f2a04fd4620>, <function accuracy at 0x7f2a04fd4400>], true_wd=True, bn_wd=True, wd=0.01, train_bn=True, path=PosixPath('.'), model_dir='models', callback_fns=[functools.partial(<class 'fastai.basic_train.Recorder'>, add_time=True, silent=False), functools.partial(<class 'fastai.callbacks.csv_logger.CSVLogger'>, append=True)], callbacks=[], layer_groups=[Sequential(\n",
              "  (0): Conv2d(3, 64, kernel_size=(7, 7), stride=(2, 2), padding=(3, 3), bias=False)\n",
              "  (1): BatchNorm2d(64, eps=1e-05, momentum=0.1, affine=True, track_running_stats=True)\n",
              "  (2): ReLU(inplace=True)\n",
              "  (3): MaxPool2d(kernel_size=3, stride=2, padding=1, dilation=1, ceil_mode=False)\n",
              "  (4): Conv2d(64, 64, kernel_size=(3, 3), stride=(1, 1), padding=(1, 1), bias=False)\n",
              "  (5): BatchNorm2d(64, eps=1e-05, momentum=0.1, affine=True, track_running_stats=True)\n",
              "  (6): ReLU(inplace=True)\n",
              "  (7): Conv2d(64, 64, kernel_size=(3, 3), stride=(1, 1), padding=(1, 1), bias=False)\n",
              "  (8): BatchNorm2d(64, eps=1e-05, momentum=0.1, affine=True, track_running_stats=True)\n",
              "  (9): Conv2d(64, 64, kernel_size=(3, 3), stride=(1, 1), padding=(1, 1), bias=False)\n",
              "  (10): BatchNorm2d(64, eps=1e-05, momentum=0.1, affine=True, track_running_stats=True)\n",
              "  (11): ReLU(inplace=True)\n",
              "  (12): Conv2d(64, 64, kernel_size=(3, 3), stride=(1, 1), padding=(1, 1), bias=False)\n",
              "  (13): BatchNorm2d(64, eps=1e-05, momentum=0.1, affine=True, track_running_stats=True)\n",
              "  (14): Conv2d(64, 128, kernel_size=(3, 3), stride=(2, 2), padding=(1, 1), bias=False)\n",
              "  (15): BatchNorm2d(128, eps=1e-05, momentum=0.1, affine=True, track_running_stats=True)\n",
              "  (16): ReLU(inplace=True)\n",
              "  (17): Conv2d(128, 128, kernel_size=(3, 3), stride=(1, 1), padding=(1, 1), bias=False)\n",
              "  (18): BatchNorm2d(128, eps=1e-05, momentum=0.1, affine=True, track_running_stats=True)\n",
              "  (19): Conv2d(64, 128, kernel_size=(1, 1), stride=(2, 2), bias=False)\n",
              "  (20): BatchNorm2d(128, eps=1e-05, momentum=0.1, affine=True, track_running_stats=True)\n",
              "  (21): Conv2d(128, 128, kernel_size=(3, 3), stride=(1, 1), padding=(1, 1), bias=False)\n",
              "  (22): BatchNorm2d(128, eps=1e-05, momentum=0.1, affine=True, track_running_stats=True)\n",
              "  (23): ReLU(inplace=True)\n",
              "  (24): Conv2d(128, 128, kernel_size=(3, 3), stride=(1, 1), padding=(1, 1), bias=False)\n",
              "  (25): BatchNorm2d(128, eps=1e-05, momentum=0.1, affine=True, track_running_stats=True)\n",
              "  (26): Conv2d(128, 256, kernel_size=(3, 3), stride=(2, 2), padding=(1, 1), bias=False)\n",
              "  (27): BatchNorm2d(256, eps=1e-05, momentum=0.1, affine=True, track_running_stats=True)\n",
              "  (28): ReLU(inplace=True)\n",
              "  (29): Conv2d(256, 256, kernel_size=(3, 3), stride=(1, 1), padding=(1, 1), bias=False)\n",
              "  (30): BatchNorm2d(256, eps=1e-05, momentum=0.1, affine=True, track_running_stats=True)\n",
              "  (31): Conv2d(128, 256, kernel_size=(1, 1), stride=(2, 2), bias=False)\n",
              "  (32): BatchNorm2d(256, eps=1e-05, momentum=0.1, affine=True, track_running_stats=True)\n",
              "  (33): Conv2d(256, 256, kernel_size=(3, 3), stride=(1, 1), padding=(1, 1), bias=False)\n",
              "  (34): BatchNorm2d(256, eps=1e-05, momentum=0.1, affine=True, track_running_stats=True)\n",
              "  (35): ReLU(inplace=True)\n",
              "  (36): Conv2d(256, 256, kernel_size=(3, 3), stride=(1, 1), padding=(1, 1), bias=False)\n",
              "  (37): BatchNorm2d(256, eps=1e-05, momentum=0.1, affine=True, track_running_stats=True)\n",
              "  (38): Conv2d(256, 512, kernel_size=(3, 3), stride=(2, 2), padding=(1, 1), bias=False)\n",
              "  (39): BatchNorm2d(512, eps=1e-05, momentum=0.1, affine=True, track_running_stats=True)\n",
              "  (40): ReLU(inplace=True)\n",
              "  (41): Conv2d(512, 512, kernel_size=(3, 3), stride=(1, 1), padding=(1, 1), bias=False)\n",
              "  (42): BatchNorm2d(512, eps=1e-05, momentum=0.1, affine=True, track_running_stats=True)\n",
              "  (43): Conv2d(256, 512, kernel_size=(1, 1), stride=(2, 2), bias=False)\n",
              "  (44): BatchNorm2d(512, eps=1e-05, momentum=0.1, affine=True, track_running_stats=True)\n",
              "  (45): Conv2d(512, 512, kernel_size=(3, 3), stride=(1, 1), padding=(1, 1), bias=False)\n",
              "  (46): BatchNorm2d(512, eps=1e-05, momentum=0.1, affine=True, track_running_stats=True)\n",
              "  (47): ReLU(inplace=True)\n",
              "  (48): Conv2d(512, 512, kernel_size=(3, 3), stride=(1, 1), padding=(1, 1), bias=False)\n",
              "  (49): BatchNorm2d(512, eps=1e-05, momentum=0.1, affine=True, track_running_stats=True)\n",
              "  (50): AdaptiveAvgPool2d(output_size=(1, 1))\n",
              "  (51): Dropout(p=0.3, inplace=False)\n",
              "  (52): Linear(in_features=512, out_features=128, bias=True)\n",
              "  (53): Dropout(p=0.5, inplace=False)\n",
              "  (54): Linear(in_features=128, out_features=2, bias=True)\n",
              ")], add_time=True, silent=False)"
            ]
          },
          "metadata": {
            "tags": []
          },
          "execution_count": 26
        }
      ]
    },
    {
      "cell_type": "code",
      "metadata": {
        "id": "vkXtB9EGJCRQ",
        "colab_type": "code",
        "colab": {
          "base_uri": "https://localhost:8080/",
          "height": 630
        },
        "outputId": "e07c5819-e851-41d7-cb79-26a322750cab"
      },
      "source": [
        "from fastai.callbacks import *\n",
        "learn.fit(15,1e-06,callbacks=[SaveModelCallback(learn, every='imrpovement', monitor='accuracy')])"
      ],
      "execution_count": 27,
      "outputs": [
        {
          "output_type": "stream",
          "text": [
            "/usr/local/lib/python3.6/dist-packages/fastai/callbacks/tracker.py:83: UserWarning: SaveModel every imrpovement is invalid, falling back to \"improvement\".\n",
            "  warn(f'SaveModel every {self.every} is invalid, falling back to \"improvement\".')\n"
          ],
          "name": "stderr"
        },
        {
          "output_type": "display_data",
          "data": {
            "text/html": [
              "<table border=\"1\" class=\"dataframe\">\n",
              "  <thead>\n",
              "    <tr style=\"text-align: left;\">\n",
              "      <th>epoch</th>\n",
              "      <th>train_loss</th>\n",
              "      <th>valid_loss</th>\n",
              "      <th>error_rate</th>\n",
              "      <th>accuracy</th>\n",
              "      <th>time</th>\n",
              "    </tr>\n",
              "  </thead>\n",
              "  <tbody>\n",
              "    <tr>\n",
              "      <td>0</td>\n",
              "      <td>0.598765</td>\n",
              "      <td>0.511522</td>\n",
              "      <td>0.130019</td>\n",
              "      <td>0.869981</td>\n",
              "      <td>03:18</td>\n",
              "    </tr>\n",
              "    <tr>\n",
              "      <td>1</td>\n",
              "      <td>0.483409</td>\n",
              "      <td>0.378862</td>\n",
              "      <td>0.066922</td>\n",
              "      <td>0.933078</td>\n",
              "      <td>03:16</td>\n",
              "    </tr>\n",
              "    <tr>\n",
              "      <td>2</td>\n",
              "      <td>0.376497</td>\n",
              "      <td>0.313362</td>\n",
              "      <td>0.071702</td>\n",
              "      <td>0.928298</td>\n",
              "      <td>03:15</td>\n",
              "    </tr>\n",
              "    <tr>\n",
              "      <td>3</td>\n",
              "      <td>0.347366</td>\n",
              "      <td>0.255626</td>\n",
              "      <td>0.070746</td>\n",
              "      <td>0.929254</td>\n",
              "      <td>03:15</td>\n",
              "    </tr>\n",
              "    <tr>\n",
              "      <td>4</td>\n",
              "      <td>0.279021</td>\n",
              "      <td>0.260453</td>\n",
              "      <td>0.097514</td>\n",
              "      <td>0.902486</td>\n",
              "      <td>03:15</td>\n",
              "    </tr>\n",
              "    <tr>\n",
              "      <td>5</td>\n",
              "      <td>0.281479</td>\n",
              "      <td>0.206833</td>\n",
              "      <td>0.071702</td>\n",
              "      <td>0.928298</td>\n",
              "      <td>03:17</td>\n",
              "    </tr>\n",
              "    <tr>\n",
              "      <td>6</td>\n",
              "      <td>0.264076</td>\n",
              "      <td>0.264014</td>\n",
              "      <td>0.109943</td>\n",
              "      <td>0.890057</td>\n",
              "      <td>03:16</td>\n",
              "    </tr>\n",
              "    <tr>\n",
              "      <td>7</td>\n",
              "      <td>0.248484</td>\n",
              "      <td>0.206495</td>\n",
              "      <td>0.085086</td>\n",
              "      <td>0.914914</td>\n",
              "      <td>03:23</td>\n",
              "    </tr>\n",
              "    <tr>\n",
              "      <td>8</td>\n",
              "      <td>0.247430</td>\n",
              "      <td>0.215973</td>\n",
              "      <td>0.093690</td>\n",
              "      <td>0.906310</td>\n",
              "      <td>03:21</td>\n",
              "    </tr>\n",
              "    <tr>\n",
              "      <td>9</td>\n",
              "      <td>0.226551</td>\n",
              "      <td>0.212046</td>\n",
              "      <td>0.089866</td>\n",
              "      <td>0.910134</td>\n",
              "      <td>03:24</td>\n",
              "    </tr>\n",
              "    <tr>\n",
              "      <td>10</td>\n",
              "      <td>0.199902</td>\n",
              "      <td>0.158584</td>\n",
              "      <td>0.065010</td>\n",
              "      <td>0.934990</td>\n",
              "      <td>03:26</td>\n",
              "    </tr>\n",
              "    <tr>\n",
              "      <td>11</td>\n",
              "      <td>0.189031</td>\n",
              "      <td>0.183064</td>\n",
              "      <td>0.078394</td>\n",
              "      <td>0.921606</td>\n",
              "      <td>03:22</td>\n",
              "    </tr>\n",
              "    <tr>\n",
              "      <td>12</td>\n",
              "      <td>0.197348</td>\n",
              "      <td>0.182657</td>\n",
              "      <td>0.078394</td>\n",
              "      <td>0.921606</td>\n",
              "      <td>03:22</td>\n",
              "    </tr>\n",
              "    <tr>\n",
              "      <td>13</td>\n",
              "      <td>0.194193</td>\n",
              "      <td>0.132527</td>\n",
              "      <td>0.048757</td>\n",
              "      <td>0.951243</td>\n",
              "      <td>03:21</td>\n",
              "    </tr>\n",
              "    <tr>\n",
              "      <td>14</td>\n",
              "      <td>0.186559</td>\n",
              "      <td>0.216030</td>\n",
              "      <td>0.088910</td>\n",
              "      <td>0.911090</td>\n",
              "      <td>03:22</td>\n",
              "    </tr>\n",
              "  </tbody>\n",
              "</table>"
            ],
            "text/plain": [
              "<IPython.core.display.HTML object>"
            ]
          },
          "metadata": {
            "tags": []
          }
        },
        {
          "output_type": "stream",
          "text": [
            "Better model found at epoch 0 with accuracy value: 0.8699808716773987.\n",
            "Better model found at epoch 1 with accuracy value: 0.933078408241272.\n",
            "Better model found at epoch 10 with accuracy value: 0.9349904656410217.\n",
            "Better model found at epoch 13 with accuracy value: 0.9512428045272827.\n"
          ],
          "name": "stdout"
        }
      ]
    },
    {
      "cell_type": "code",
      "metadata": {
        "id": "8aPKquVscEfI",
        "colab_type": "code",
        "colab": {}
      },
      "source": [
        "learn.load('bestmodel');"
      ],
      "execution_count": 28,
      "outputs": []
    },
    {
      "cell_type": "code",
      "metadata": {
        "id": "AmMX9L95thTI",
        "colab_type": "code",
        "colab": {}
      },
      "source": [
        ""
      ],
      "execution_count": 28,
      "outputs": []
    },
    {
      "cell_type": "code",
      "metadata": {
        "id": "7aNcyksqohAW",
        "colab_type": "code",
        "colab": {}
      },
      "source": [
        ""
      ],
      "execution_count": 28,
      "outputs": []
    },
    {
      "cell_type": "code",
      "metadata": {
        "id": "3JAj1G3mBIo-",
        "colab_type": "code",
        "colab": {}
      },
      "source": [
        ""
      ],
      "execution_count": null,
      "outputs": []
    },
    {
      "cell_type": "code",
      "metadata": {
        "id": "W-yHb2LaBZ1X",
        "colab_type": "code",
        "colab": {}
      },
      "source": [
        ""
      ],
      "execution_count": null,
      "outputs": []
    },
    {
      "cell_type": "code",
      "metadata": {
        "id": "MFD7CdTzCYMj",
        "colab_type": "code",
        "colab": {}
      },
      "source": [
        ""
      ],
      "execution_count": null,
      "outputs": []
    },
    {
      "cell_type": "code",
      "metadata": {
        "id": "KftEhOfiJa_L",
        "colab_type": "code",
        "colab": {}
      },
      "source": [
        ""
      ],
      "execution_count": null,
      "outputs": []
    },
    {
      "cell_type": "code",
      "metadata": {
        "id": "VA2pBhmgCnq0",
        "colab_type": "code",
        "colab": {}
      },
      "source": [
        ""
      ],
      "execution_count": null,
      "outputs": []
    },
    {
      "cell_type": "code",
      "metadata": {
        "id": "xC2VyPJf2klg",
        "colab_type": "code",
        "colab": {
          "base_uri": "https://localhost:8080/",
          "height": 1000
        },
        "outputId": "e100ba9e-d09c-469a-826d-3c83ffb1610b"
      },
      "source": [
        "\n",
        "learn.unfreeze()\n",
        "learn.fit_one_cycle(10,1e-04,callbacks=[SaveModelCallback(learn, every='imrpovement', monitor='f1_score_a')])\n",
        "learn.recorder.plot()\n",
        "learn.recorder.plot_losses()\n",
        "learn.recorder.plot_metrics()"
      ],
      "execution_count": 29,
      "outputs": [
        {
          "output_type": "stream",
          "text": [
            "/usr/local/lib/python3.6/dist-packages/fastai/callbacks/tracker.py:83: UserWarning: SaveModel every imrpovement is invalid, falling back to \"improvement\".\n",
            "  warn(f'SaveModel every {self.every} is invalid, falling back to \"improvement\".')\n"
          ],
          "name": "stderr"
        },
        {
          "output_type": "display_data",
          "data": {
            "text/html": [
              "<table border=\"1\" class=\"dataframe\">\n",
              "  <thead>\n",
              "    <tr style=\"text-align: left;\">\n",
              "      <th>epoch</th>\n",
              "      <th>train_loss</th>\n",
              "      <th>valid_loss</th>\n",
              "      <th>error_rate</th>\n",
              "      <th>accuracy</th>\n",
              "      <th>time</th>\n",
              "    </tr>\n",
              "  </thead>\n",
              "  <tbody>\n",
              "    <tr>\n",
              "      <td>0</td>\n",
              "      <td>0.160602</td>\n",
              "      <td>0.173427</td>\n",
              "      <td>0.072658</td>\n",
              "      <td>0.927342</td>\n",
              "      <td>03:25</td>\n",
              "    </tr>\n",
              "    <tr>\n",
              "      <td>1</td>\n",
              "      <td>0.172329</td>\n",
              "      <td>0.108339</td>\n",
              "      <td>0.042065</td>\n",
              "      <td>0.957935</td>\n",
              "      <td>03:23</td>\n",
              "    </tr>\n",
              "    <tr>\n",
              "      <td>2</td>\n",
              "      <td>0.147276</td>\n",
              "      <td>0.098021</td>\n",
              "      <td>0.038241</td>\n",
              "      <td>0.961759</td>\n",
              "      <td>03:21</td>\n",
              "    </tr>\n",
              "    <tr>\n",
              "      <td>3</td>\n",
              "      <td>0.193609</td>\n",
              "      <td>0.079465</td>\n",
              "      <td>0.027725</td>\n",
              "      <td>0.972275</td>\n",
              "      <td>03:18</td>\n",
              "    </tr>\n",
              "    <tr>\n",
              "      <td>4</td>\n",
              "      <td>0.085457</td>\n",
              "      <td>0.226966</td>\n",
              "      <td>0.086042</td>\n",
              "      <td>0.913958</td>\n",
              "      <td>03:20</td>\n",
              "    </tr>\n",
              "    <tr>\n",
              "      <td>5</td>\n",
              "      <td>0.127045</td>\n",
              "      <td>0.062345</td>\n",
              "      <td>0.024857</td>\n",
              "      <td>0.975143</td>\n",
              "      <td>03:21</td>\n",
              "    </tr>\n",
              "    <tr>\n",
              "      <td>6</td>\n",
              "      <td>0.089634</td>\n",
              "      <td>0.245739</td>\n",
              "      <td>0.091778</td>\n",
              "      <td>0.908222</td>\n",
              "      <td>03:21</td>\n",
              "    </tr>\n",
              "    <tr>\n",
              "      <td>7</td>\n",
              "      <td>0.060966</td>\n",
              "      <td>0.092392</td>\n",
              "      <td>0.035373</td>\n",
              "      <td>0.964627</td>\n",
              "      <td>03:17</td>\n",
              "    </tr>\n",
              "    <tr>\n",
              "      <td>8</td>\n",
              "      <td>0.048509</td>\n",
              "      <td>0.108592</td>\n",
              "      <td>0.041109</td>\n",
              "      <td>0.958891</td>\n",
              "      <td>03:15</td>\n",
              "    </tr>\n",
              "    <tr>\n",
              "      <td>9</td>\n",
              "      <td>0.079151</td>\n",
              "      <td>0.125987</td>\n",
              "      <td>0.048757</td>\n",
              "      <td>0.951243</td>\n",
              "      <td>03:13</td>\n",
              "    </tr>\n",
              "  </tbody>\n",
              "</table>"
            ],
            "text/plain": [
              "<IPython.core.display.HTML object>"
            ]
          },
          "metadata": {
            "tags": []
          }
        },
        {
          "output_type": "stream",
          "text": [
            "/usr/local/lib/python3.6/dist-packages/fastai/callbacks/tracker.py:50: UserWarning: <class 'fastai.callbacks.tracker.SaveModelCallback'> conditioned on metric `f1_score_a` which is not available. Available metrics are: train_loss, valid_loss, error_rate, accuracy\n",
            "  warn(f'{self.__class__} conditioned on metric `{self.monitor}` which is not available. Available metrics are: {\", \".join(map(str, self.learn.recorder.names[1:-1]))}')\n"
          ],
          "name": "stderr"
        },
        {
          "output_type": "display_data",
          "data": {
            "image/png": "[encoded data removed]",
            "text/plain": [
              "<Figure size 432x288 with 1 Axes>"
            ]
          },
          "metadata": {
            "tags": [],
            "needs_background": "light"
          }
        },
        {
          "output_type": "display_data",
          "data": {
            "image/png": "[encoded data removed]",
            "text/plain": [
              "<Figure size 432x288 with 1 Axes>"
            ]
          },
          "metadata": {
            "tags": [],
            "needs_background": "light"
          }
        },
        {
          "output_type": "display_data",
          "data": {
            "image/png": "[encoded data removed]",
            "text/plain": [
              "<Figure size 432x576 with 2 Axes>"
            ]
          },
          "metadata": {
            "tags": [],
            "needs_background": "light"
          }
        }
      ]
    },
    {
      "cell_type": "code",
      "metadata": {
        "id": "pSq6izBaMoL_",
        "colab_type": "code",
        "colab": {}
      },
      "source": [
        ""
      ],
      "execution_count": null,
      "outputs": []
    },
    {
      "cell_type": "code",
      "metadata": {
        "id": "t5VuTbhrNNTL",
        "colab_type": "code",
        "colab": {}
      },
      "source": [
        ""
      ],
      "execution_count": null,
      "outputs": []
    },
    {
      "cell_type": "code",
      "metadata": {
        "id": "dG_z1b5gNQWM",
        "colab_type": "code",
        "colab": {}
      },
      "source": [
        ""
      ],
      "execution_count": null,
      "outputs": []
    },
    {
      "cell_type": "code",
      "metadata": {
        "id": "RXHrcSaTNQbX",
        "colab_type": "code",
        "colab": {}
      },
      "source": [
        ""
      ],
      "execution_count": null,
      "outputs": []
    },
    {
      "cell_type": "code",
      "metadata": {
        "id": "qh2FSpOBKQ6_",
        "colab_type": "code",
        "colab": {}
      },
      "source": [
        ""
      ],
      "execution_count": null,
      "outputs": []
    },
    {
      "cell_type": "code",
      "metadata": {
        "id": "JJ7N1q4i46gC",
        "colab_type": "code",
        "colab": {}
      },
      "source": [
        "learn.save('bestmodel')"
      ],
      "execution_count": 30,
      "outputs": []
    },
    {
      "cell_type": "code",
      "metadata": {
        "id": "yuyLa29-L-Ek",
        "colab_type": "code",
        "colab": {}
      },
      "source": [
        ""
      ],
      "execution_count": null,
      "outputs": []
    },
    {
      "cell_type": "code",
      "metadata": {
        "id": "RqOD5wcgH9Mg",
        "colab_type": "code",
        "colab": {
          "base_uri": "https://localhost:8080/",
          "height": 348
        },
        "outputId": "b17c753b-136b-4410-fb15-785bcdcc721e"
      },
      "source": [
        "learn.load('bestmodel')\n",
        "interp = ClassificationInterpretation.from_learner(learn)\n",
        "interp.plot_confusion_matrix()\n",
        "conf=interp.confusion_matrix()\n",
        "TrueNagitive=conf[0][0]\n",
        "FalseNegative=conf[0][1]\n",
        "TruePositive=conf[1][1]\n",
        "FalsePositive=conf[1][0]\n",
        "recal=TruePositive/(TruePositive+FalseNegative)\n",
        "precision=TruePositive/(TruePositive+FalsePositive)\n",
        "print(\"Precision of Model =\",precision,\"Recall of Model \", recal)\n",
        "f1=2*((precision*recal)/(precision+recal))\n",
        "print('F1 Score of Model =',f1)"
      ],
      "execution_count": 31,
      "outputs": [
        {
          "output_type": "display_data",
          "data": {
            "text/html": [
              ""
            ],
            "text/plain": [
              "<IPython.core.display.HTML object>"
            ]
          },
          "metadata": {
            "tags": []
          }
        },
        {
          "output_type": "stream",
          "text": [
            "Precision of Model = 0.9431396786155748 Recall of Model  0.9934895833333334\n",
            "F1 Score of Model = 0.9676601141407736\n"
          ],
          "name": "stdout"
        },
        {
          "output_type": "display_data",
          "data": {
            "image/png": "[encoded data removed]",
            "text/plain": [
              "<Figure size 432x288 with 1 Axes>"
            ]
          },
          "metadata": {
            "tags": [],
            "needs_background": "light"
          }
        }
      ]
    },
    {
      "cell_type": "code",
      "metadata": {
        "id": "C822ArpYwgzJ",
        "colab_type": "code",
        "colab": {}
      },
      "source": [
        "filesPos= sorted(glob.glob('chest_xray/test/NORMAL/*.jpeg'))\n",
        "filesNeg=sorted(glob.glob('chest_xray/test/PNEUMONIA/*.jpeg'))"
      ],
      "execution_count": 32,
      "outputs": []
    },
    {
      "cell_type": "code",
      "metadata": {
        "id": "83dNSz8a2tI7",
        "colab_type": "code",
        "colab": {}
      },
      "source": [
        "pos_labels=[[i,0] for i in filesPos]\n",
        "neg_labels=[[i,1] for i in filesNeg]\n",
        "ds=pos_labels+neg_labels"
      ],
      "execution_count": 33,
      "outputs": []
    },
    {
      "cell_type": "code",
      "metadata": {
        "id": "aQvvMqfJ2y8T",
        "colab_type": "code",
        "colab": {}
      },
      "source": [
        "np.random.seed(4200)\n",
        "import pandas as pd \n",
        "df = pd.DataFrame(ds,columns =['path', 'label']) \n",
        "def Randomizing(df):\n",
        "    df2 = df.reindex(np.random.permutation(df.index))\n",
        "    return df2\n",
        "df=Randomizing(df)"
      ],
      "execution_count": 34,
      "outputs": []
    },
    {
      "cell_type": "code",
      "metadata": {
        "id": "t4Qmm59T25uL",
        "colab_type": "code",
        "colab": {}
      },
      "source": [
        "dfTest=df"
      ],
      "execution_count": 35,
      "outputs": []
    },
    {
      "cell_type": "code",
      "metadata": {
        "id": "pD-GVcsx3ACa",
        "colab_type": "code",
        "colab": {
          "base_uri": "https://localhost:8080/",
          "height": 424
        },
        "outputId": "25dc96f7-bb19-452e-c161-b8769850a7d6"
      },
      "source": [
        "dfTest"
      ],
      "execution_count": 36,
      "outputs": [
        {
          "output_type": "execute_result",
          "data": {
            "text/html": [
              "<div>\n",
              "<style scoped>\n",
              "    .dataframe tbody tr th:only-of-type {\n",
              "        vertical-align: middle;\n",
              "    }\n",
              "\n",
              "    .dataframe tbody tr th {\n",
              "        vertical-align: top;\n",
              "    }\n",
              "\n",
              "    .dataframe thead th {\n",
              "        text-align: right;\n",
              "    }\n",
              "</style>\n",
              "<table border=\"1\" class=\"dataframe\">\n",
              "  <thead>\n",
              "    <tr style=\"text-align: right;\">\n",
              "      <th></th>\n",
              "      <th>path</th>\n",
              "      <th>label</th>\n",
              "    </tr>\n",
              "  </thead>\n",
              "  <tbody>\n",
              "    <tr>\n",
              "      <th>85</th>\n",
              "      <td>chest_xray/test/NORMAL/NORMAL2-IM-0059-0001.jpeg</td>\n",
              "      <td>0</td>\n",
              "    </tr>\n",
              "    <tr>\n",
              "      <th>295</th>\n",
              "      <td>chest_xray/test/PNEUMONIA/person121_bacteria_5...</td>\n",
              "      <td>1</td>\n",
              "    </tr>\n",
              "    <tr>\n",
              "      <th>157</th>\n",
              "      <td>chest_xray/test/NORMAL/NORMAL2-IM-0281-0001.jpeg</td>\n",
              "      <td>0</td>\n",
              "    </tr>\n",
              "    <tr>\n",
              "      <th>165</th>\n",
              "      <td>chest_xray/test/NORMAL/NORMAL2-IM-0290-0001.jpeg</td>\n",
              "      <td>0</td>\n",
              "    </tr>\n",
              "    <tr>\n",
              "      <th>181</th>\n",
              "      <td>chest_xray/test/NORMAL/NORMAL2-IM-0315-0001.jpeg</td>\n",
              "      <td>0</td>\n",
              "    </tr>\n",
              "    <tr>\n",
              "      <th>...</th>\n",
              "      <td>...</td>\n",
              "      <td>...</td>\n",
              "    </tr>\n",
              "    <tr>\n",
              "      <th>559</th>\n",
              "      <td>chest_xray/test/PNEUMONIA/person78_bacteria_38...</td>\n",
              "      <td>1</td>\n",
              "    </tr>\n",
              "    <tr>\n",
              "      <th>269</th>\n",
              "      <td>chest_xray/test/PNEUMONIA/person111_bacteria_5...</td>\n",
              "      <td>1</td>\n",
              "    </tr>\n",
              "    <tr>\n",
              "      <th>462</th>\n",
              "      <td>chest_xray/test/PNEUMONIA/person1671_virus_288...</td>\n",
              "      <td>1</td>\n",
              "    </tr>\n",
              "    <tr>\n",
              "      <th>339</th>\n",
              "      <td>chest_xray/test/PNEUMONIA/person135_bacteria_6...</td>\n",
              "      <td>1</td>\n",
              "    </tr>\n",
              "    <tr>\n",
              "      <th>163</th>\n",
              "      <td>chest_xray/test/NORMAL/NORMAL2-IM-0288-0001.jpeg</td>\n",
              "      <td>0</td>\n",
              "    </tr>\n",
              "  </tbody>\n",
              "</table>\n",
              "<p>624 rows × 2 columns</p>\n",
              "</div>"
            ],
            "text/plain": [
              "                                                  path  label\n",
              "85    chest_xray/test/NORMAL/NORMAL2-IM-0059-0001.jpeg      0\n",
              "295  chest_xray/test/PNEUMONIA/person121_bacteria_5...      1\n",
              "157   chest_xray/test/NORMAL/NORMAL2-IM-0281-0001.jpeg      0\n",
              "165   chest_xray/test/NORMAL/NORMAL2-IM-0290-0001.jpeg      0\n",
              "181   chest_xray/test/NORMAL/NORMAL2-IM-0315-0001.jpeg      0\n",
              "..                                                 ...    ...\n",
              "559  chest_xray/test/PNEUMONIA/person78_bacteria_38...      1\n",
              "269  chest_xray/test/PNEUMONIA/person111_bacteria_5...      1\n",
              "462  chest_xray/test/PNEUMONIA/person1671_virus_288...      1\n",
              "339  chest_xray/test/PNEUMONIA/person135_bacteria_6...      1\n",
              "163   chest_xray/test/NORMAL/NORMAL2-IM-0288-0001.jpeg      0\n",
              "\n",
              "[624 rows x 2 columns]"
            ]
          },
          "metadata": {
            "tags": []
          },
          "execution_count": 36
        }
      ]
    },
    {
      "cell_type": "code",
      "metadata": {
        "id": "AUdgIGbIeW-g",
        "colab_type": "code",
        "colab": {}
      },
      "source": [
        "bs =8\n",
        "sz=224\n",
        "tfms = get_transforms(do_flip=True,flip_vert=True,max_lighting=0.4,max_zoom=1.1)\n",
        "src = (ImageList.from_df(df=dfTest,path='',cols='path') #get dataset from dataset\n",
        "        .split_by_rand_pct(0.0) #Splitting the dataset\n",
        "        .label_from_df(cols='label') #obtain labels from the level column\n",
        "      )\n",
        "dataTest= (src.transform(tfms,size=224,padding_mode='zeros') #Data augmentation\n",
        "        .databunch(bs=bs,num_workers=4) #DataBunch\n",
        "        .normalize(imagenet_stats) #Normalize     \n",
        "       )"
      ],
      "execution_count": 37,
      "outputs": []
    },
    {
      "cell_type": "code",
      "metadata": {
        "id": "m2KyFQ-5yo_4",
        "colab_type": "code",
        "colab": {}
      },
      "source": [
        ""
      ],
      "execution_count": 37,
      "outputs": []
    },
    {
      "cell_type": "code",
      "metadata": {
        "id": "QV79Te2C9-nE",
        "colab_type": "code",
        "colab": {}
      },
      "source": [
        "learn.data.valid_dl = dataTest.train_dl"
      ],
      "execution_count": 38,
      "outputs": []
    },
    {
      "cell_type": "code",
      "metadata": {
        "id": "AcblmJf6-Kde",
        "colab_type": "code",
        "colab": {
          "base_uri": "https://localhost:8080/",
          "height": 35
        },
        "outputId": "28d096a0-188f-4bab-bcc7-5ba648444c90"
      },
      "source": [
        "learn.validate()"
      ],
      "execution_count": 39,
      "outputs": [
        {
          "output_type": "display_data",
          "data": {
            "text/html": [
              ""
            ],
            "text/plain": [
              "<IPython.core.display.HTML object>"
            ]
          },
          "metadata": {
            "tags": []
          }
        },
        {
          "output_type": "execute_result",
          "data": {
            "text/plain": [
              "[0.5172584, tensor(0.1891), tensor(0.8109)]"
            ]
          },
          "metadata": {
            "tags": []
          },
          "execution_count": 39
        }
      ]
    },
    {
      "cell_type": "code",
      "metadata": {
        "id": "z6jfaDkR_Yf-",
        "colab_type": "code",
        "colab": {
          "base_uri": "https://localhost:8080/",
          "height": 348
        },
        "outputId": "0991ce26-8899-4b71-8bd7-6410ec760a8f"
      },
      "source": [
        "learn.load('bestmodel')\n",
        "interp = ClassificationInterpretation.from_learner(learn)\n",
        "interp.plot_confusion_matrix()\n",
        "conf=interp.confusion_matrix()\n",
        "TrueNagitive=conf[0][0]\n",
        "FalseNegative=conf[0][1]\n",
        "TruePositive=conf[1][1]\n",
        "FalsePositive=conf[1][0]\n",
        "recal=TruePositive/(TruePositive+FalseNegative)\n",
        "precision=TruePositive/(TruePositive+FalsePositive)\n",
        "print(\"Precision of Model =\",precision,\"Recall of Model \", recal)\n",
        "f1=2*((precision*recal)/(precision+recal))\n",
        "print('F1 Score of Model =',f1)"
      ],
      "execution_count": 40,
      "outputs": [
        {
          "output_type": "display_data",
          "data": {
            "text/html": [
              ""
            ],
            "text/plain": [
              "<IPython.core.display.HTML object>"
            ]
          },
          "metadata": {
            "tags": []
          }
        },
        {
          "output_type": "stream",
          "text": [
            "Precision of Model = 0.9948717948717949 Recall of Model  0.7607843137254902\n",
            "F1 Score of Model = 0.8622222222222222\n"
          ],
          "name": "stdout"
        },
        {
          "output_type": "display_data",
          "data": {
            "image/png": "[encoded data removed]",
            "text/plain": [
              "<Figure size 432x288 with 1 Axes>"
            ]
          },
          "metadata": {
            "tags": [],
            "needs_background": "light"
          }
        }
      ]
    },
    {
      "cell_type": "code",
      "metadata": {
        "id": "L6tY4PZQ_u83",
        "colab_type": "code",
        "colab": {
          "base_uri": "https://localhost:8080/",
          "height": 35
        },
        "outputId": "686f4a6b-5165-4fb7-f494-55677fca1a2d"
      },
      "source": [
        "!ls"
      ],
      "execution_count": 41,
      "outputs": [
        {
          "output_type": "stream",
          "text": [
            "chest_xray  chest_xray.zip  drive  history.csv\t__MACOSX  models  sample_data\n"
          ],
          "name": "stdout"
        }
      ]
    },
    {
      "cell_type": "code",
      "metadata": {
        "id": "Nmg2hdXIAQnp",
        "colab_type": "code",
        "colab": {
          "base_uri": "https://localhost:8080/",
          "height": 35
        },
        "outputId": "a8291463-a6ee-408a-f497-4034280aa4b6"
      },
      "source": [
        "!mkdir '/content/drive/My Drive/Res34ActualPne1'\n",
        "!cp 'models/bestmodel.pth' '/content/drive/My Drive/Res34ActualPne1'\n",
        "!cp 'history.csv' '/content/drive/My Drive/Res34ActualPne1'"
      ],
      "execution_count": 42,
      "outputs": [
        {
          "output_type": "stream",
          "text": [
            "mkdir: cannot create directory ‘/content/drive/My Drive/Res34ActualPne1’: File exists\n"
          ],
          "name": "stdout"
        }
      ]
    },
    {
      "cell_type": "markdown",
      "metadata": {
        "id": "zmFdZXJOzyyS",
        "colab_type": "text"
      },
      "source": [
        ""
      ]
    },
    {
      "cell_type": "code",
      "metadata": {
        "id": "rs5z0aRg_htf",
        "colab_type": "code",
        "colab": {}
      },
      "source": [
        "from torchvision import transforms\n",
        "image_transforms = { \n",
        "    'train': transforms.Compose([\n",
        "        transforms.Resize(size=224),\n",
        "        transforms.RandomVerticalFlip(),\n",
        "        transforms.CenterCrop(size=224),\n",
        "        transforms.ToTensor(),\n",
        "        transforms.Normalize(imagenet_stats[0],imagenet_stats[1])\n",
        "    ]),\n",
        "    'valid': transforms.Compose([\n",
        "        transforms.Resize(size=224),\n",
        "        transforms.RandomVerticalFlip(),\n",
        "        transforms.CenterCrop(size=224),\n",
        "        transforms.ToTensor(),\n",
        "        transforms.Normalize(imagenet_stats[0],imagenet_stats[1])\n",
        "    ]),\n",
        "    'test': transforms.Compose([\n",
        "        transforms.Resize(size=224),\n",
        "        transforms.RandomVerticalFlip(),\n",
        "        transforms.CenterCrop(size=224),\n",
        "        transforms.ToTensor(),\n",
        "        transforms.Normalize(imagenet_stats[0],imagenet_stats[1])\n",
        "    ])\n",
        "}"
      ],
      "execution_count": 84,
      "outputs": []
    },
    {
      "cell_type": "code",
      "metadata": {
        "id": "AaWLWZTtBORx",
        "colab_type": "code",
        "colab": {}
      },
      "source": [
        "filesPos= sorted(glob.glob('chest_xray/train/NORMAL/*.jpeg'))\n",
        "filesPos+=sorted(glob.glob('chest_xray/val/NORMAL/*.jpeg'))\n",
        "filesNeg=sorted(glob.glob('chest_xray/train/PNEUMONIA/*.jpeg'))\n",
        "filesNeg+=sorted(glob.glob('chest_xray/val/PNEUMONIA/*.jpeg'))\n"
      ],
      "execution_count": 85,
      "outputs": []
    },
    {
      "cell_type": "code",
      "metadata": {
        "id": "y5Ej1VTQPp_K",
        "colab_type": "code",
        "colab": {}
      },
      "source": [
        "!rm -rf 'dataset1'"
      ],
      "execution_count": 86,
      "outputs": []
    },
    {
      "cell_type": "code",
      "metadata": {
        "id": "3OlfoMoPPw_Y",
        "colab_type": "code",
        "colab": {
          "base_uri": "https://localhost:8080/",
          "height": 54
        },
        "outputId": "bf274b1a-d41b-4e83-e669-9a08e7fcf30c"
      },
      "source": [
        "\n",
        "\n",
        "from fastai import *\n",
        "import shutil\n",
        "def copyfiles(filesName,dest):\n",
        "    for file in filesName:\n",
        "        shutil.copy(file, dest)\n",
        "    print(\"done\")\n",
        "    \n",
        "!mkdir dataset1\n",
        "!mkdir dataset1/NORMAL\n",
        "!mkdir dataset1/PNEUMONIA\n",
        "copyfiles(filesPos,'dataset1/NORMAL')\n",
        "copyfiles(filesNeg,'dataset1/PNEUMONIA')"
      ],
      "execution_count": 87,
      "outputs": [
        {
          "output_type": "stream",
          "text": [
            "done\n",
            "done\n"
          ],
          "name": "stdout"
        }
      ]
    },
    {
      "cell_type": "code",
      "metadata": {
        "id": "-qP3Wf4yPy44",
        "colab_type": "code",
        "colab": {
          "base_uri": "https://localhost:8080/",
          "height": 35
        },
        "outputId": "c36beabe-1082-4011-9905-c646d685021e"
      },
      "source": [
        "\n",
        "\n",
        " \n",
        "# Batch size\n",
        "bs = 4\n",
        " \n",
        "# Number of classes\n",
        "num_classes = 2\n",
        "# Load Data from folders\n",
        "data = {\n",
        "    'train': torchvision.datasets.ImageFolder(root='dataset1/', transform=image_transforms['train']),\n",
        "}\n",
        " \n",
        "# Size of Data, to be used for calculating Average Loss and Accuracy\n",
        "\n",
        "train_data_size = len(data['train'])\n",
        "\n",
        " \n",
        "# Create iterators for the Data loaded using DataLoader module\n",
        "train_data = DataLoader(data['train'], batch_size=bs, drop_last=True,shuffle=True, num_workers=4)\n",
        "\n",
        " \n",
        "# Print the train, validation and test set data sizes\n",
        "train_data_size"
      ],
      "execution_count": 88,
      "outputs": [
        {
          "output_type": "execute_result",
          "data": {
            "text/plain": [
              "5856"
            ]
          },
          "metadata": {
            "tags": []
          },
          "execution_count": 88
        }
      ]
    },
    {
      "cell_type": "code",
      "metadata": {
        "id": "p4FRCMN1P3fC",
        "colab_type": "code",
        "colab": {}
      },
      "source": [
        "modules=list(model.children())[:-1]\n",
        "featureExt=nn.Sequential(*modules)"
      ],
      "execution_count": 89,
      "outputs": []
    },
    {
      "cell_type": "code",
      "metadata": {
        "id": "0mNzjeU3P6fW",
        "colab_type": "code",
        "colab": {}
      },
      "source": [
        "feV=[]\n",
        "lab=[]\n",
        "for i, (inputs, labels) in enumerate(train_data):\n",
        "        inputs=inputs.cuda()\n",
        "        f=featureExt(inputs)\n",
        "        data12=f.data\n",
        "        data12=data12.cpu().data.numpy()\n",
        "        labels=labels.cpu().data.numpy()\n",
        "        feV+=[data12]\n",
        "        for l in labels:\n",
        "            lab+=[l]\n",
        "        torch.cuda.empty_cache()\n",
        "      \n",
        "        "
      ],
      "execution_count": 90,
      "outputs": []
    },
    {
      "cell_type": "code",
      "metadata": {
        "id": "cVSh7gCQP85Y",
        "colab_type": "code",
        "colab": {}
      },
      "source": [
        "# [1][1].ravel().shape\n",
        "featureList=[]\n",
        "for i in range(len(feV)):\n",
        "    for j in range(len(feV[i])):\n",
        "        featureList+=[feV[i][j].ravel()]\n"
      ],
      "execution_count": 91,
      "outputs": []
    },
    {
      "cell_type": "code",
      "metadata": {
        "id": "0heJBCs1P-m-",
        "colab_type": "code",
        "colab": {}
      },
      "source": [
        "import pandas as pd\n",
        "df = pd.DataFrame(featureList)\n"
      ],
      "execution_count": 92,
      "outputs": []
    },
    {
      "cell_type": "code",
      "metadata": {
        "id": "a7Zq11GMQA1p",
        "colab_type": "code",
        "colab": {}
      },
      "source": [
        "df.shape\n",
        "df2=pd.DataFrame(lab,columns=['labels'])"
      ],
      "execution_count": 93,
      "outputs": []
    },
    {
      "cell_type": "code",
      "metadata": {
        "id": "eFn23a3eQCP-",
        "colab_type": "code",
        "colab": {
          "base_uri": "https://localhost:8080/",
          "height": 35
        },
        "outputId": "d60138db-10a7-480d-8fd2-41584866f850"
      },
      "source": [
        "len(filesPos),len(filesNeg)"
      ],
      "execution_count": 100,
      "outputs": [
        {
          "output_type": "execute_result",
          "data": {
            "text/plain": [
              "(1583, 4273)"
            ]
          },
          "metadata": {
            "tags": []
          },
          "execution_count": 100
        }
      ]
    },
    {
      "cell_type": "code",
      "metadata": {
        "id": "0WgAJrPjOPRh",
        "colab_type": "code",
        "colab": {}
      },
      "source": [
        "df['label']=lab"
      ],
      "execution_count": 94,
      "outputs": []
    },
    {
      "cell_type": "code",
      "metadata": {
        "id": "qXuxfbNoOYvN",
        "colab_type": "code",
        "colab": {
          "base_uri": "https://localhost:8080/",
          "height": 35
        },
        "outputId": "742f4bb7-fbaf-4fdb-d7b3-473da762ab02"
      },
      "source": [
        "df.shape"
      ],
      "execution_count": 95,
      "outputs": [
        {
          "output_type": "execute_result",
          "data": {
            "text/plain": [
              "(5856, 513)"
            ]
          },
          "metadata": {
            "tags": []
          },
          "execution_count": 95
        }
      ]
    },
    {
      "cell_type": "code",
      "metadata": {
        "id": "V95N-h6oHgQh",
        "colab_type": "code",
        "colab": {}
      },
      "source": [
        "df.to_csv('dataset18New.csv',index=False)"
      ],
      "execution_count": 96,
      "outputs": []
    },
    {
      "cell_type": "code",
      "metadata": {
        "id": "j763EZRrIiqA",
        "colab_type": "code",
        "colab": {}
      },
      "source": [
        "!cp 'dataset18New.csv'  '/content/drive/My Drive/'"
      ],
      "execution_count": 97,
      "outputs": []
    },
    {
      "cell_type": "code",
      "metadata": {
        "id": "-pdoKujjQVVu",
        "colab_type": "code",
        "colab": {}
      },
      "source": [
        "filesNeg=sorted(glob.glob('chest_xray/test/PNEUMONIA/*.jpeg'))\n",
        "filesPos= sorted(glob.glob('chest_xray/test/NORMAL/*.jpeg'))"
      ],
      "execution_count": 65,
      "outputs": []
    },
    {
      "cell_type": "code",
      "metadata": {
        "id": "Y4CeORo1RbSq",
        "colab_type": "code",
        "colab": {}
      },
      "source": [
        ""
      ],
      "execution_count": null,
      "outputs": []
    },
    {
      "cell_type": "code",
      "metadata": {
        "colab_type": "code",
        "id": "id2MmrfwRrzc",
        "colab": {
          "base_uri": "https://localhost:8080/",
          "height": 54
        },
        "outputId": "772c7c0b-3036-42e3-d4ad-fc34f19a1997"
      },
      "source": [
        "\n",
        "from fastai import *\n",
        "import shutil\n",
        "def copyfiles(filesName,dest):\n",
        "    for file in filesName:\n",
        "        shutil.copy(file, dest)\n",
        "    print(\"done\")\n",
        "    \n",
        "!mkdir dataset1\n",
        "!mkdir dataset1/NORMAL\n",
        "!mkdir dataset1/PNEUMONIA\n",
        "copyfiles(filesPos,'dataset1/NORMAL')\n",
        "copyfiles(filesNeg,'dataset1/PNEUMONIA')"
      ],
      "execution_count": 66,
      "outputs": [
        {
          "output_type": "stream",
          "text": [
            "done\n",
            "done\n"
          ],
          "name": "stdout"
        }
      ]
    },
    {
      "cell_type": "code",
      "metadata": {
        "colab_type": "code",
        "id": "1v-GJzNARrzn",
        "colab": {
          "base_uri": "https://localhost:8080/",
          "height": 35
        },
        "outputId": "92b9689b-965a-46f1-a6e6-473f998e6e18"
      },
      "source": [
        "\n",
        "\n",
        " \n",
        "# Batch size\n",
        "bs = 4\n",
        " \n",
        "# Number of classes\n",
        "num_classes = 2\n",
        "# Load Data from folders\n",
        "data = {\n",
        "    'train': torchvision.datasets.ImageFolder(root='dataset1/', transform=image_transforms['train']),\n",
        "}\n",
        " \n",
        "# Size of Data, to be used for calculating Average Loss and Accuracy\n",
        "\n",
        "train_data_size = len(data['train'])\n",
        "\n",
        " \n",
        "# Create iterators for the Data loaded using DataLoader module\n",
        "train_data = DataLoader(data['train'], batch_size=bs, drop_last=True,shuffle=True, num_workers=4)\n",
        "\n",
        " \n",
        "# Print the train, validation and test set data sizes\n",
        "train_data_size"
      ],
      "execution_count": 67,
      "outputs": [
        {
          "output_type": "execute_result",
          "data": {
            "text/plain": [
              "624"
            ]
          },
          "metadata": {
            "tags": []
          },
          "execution_count": 67
        }
      ]
    },
    {
      "cell_type": "code",
      "metadata": {
        "colab_type": "code",
        "id": "I15IA5m3Rrzx",
        "colab": {}
      },
      "source": [
        "modules=list(model.children())[:-1]\n",
        "featureExt=nn.Sequential(*modules)"
      ],
      "execution_count": 68,
      "outputs": []
    },
    {
      "cell_type": "code",
      "metadata": {
        "colab_type": "code",
        "id": "qOXzBQQ8Rrz5",
        "colab": {}
      },
      "source": [
        "feV=[]\n",
        "lab=[]\n",
        "for i, (inputs, labels) in enumerate(train_data):\n",
        "        inputs=inputs.cuda()\n",
        "        f=featureExt(inputs)\n",
        "        data12=f.data\n",
        "        data12=data12.cpu().data.numpy()\n",
        "        labels=labels.cpu().data.numpy()\n",
        "        feV+=[data12]\n",
        "        for l in labels:\n",
        "            lab+=[l]\n",
        "        torch.cuda.empty_cache()\n",
        "      \n",
        "        "
      ],
      "execution_count": 69,
      "outputs": []
    },
    {
      "cell_type": "code",
      "metadata": {
        "colab_type": "code",
        "id": "OVgLaqUIRr0A",
        "colab": {}
      },
      "source": [
        "# [1][1].ravel().shape\n",
        "featureList=[]\n",
        "for i in range(len(feV)):\n",
        "    for j in range(len(feV[i])):\n",
        "        featureList+=[feV[i][j].ravel()]\n"
      ],
      "execution_count": 70,
      "outputs": []
    },
    {
      "cell_type": "code",
      "metadata": {
        "colab_type": "code",
        "id": "S3kg-OZORr0G",
        "colab": {}
      },
      "source": [
        "import pandas as pd\n",
        "df = pd.DataFrame(featureList)\n"
      ],
      "execution_count": 71,
      "outputs": []
    },
    {
      "cell_type": "code",
      "metadata": {
        "colab_type": "code",
        "id": "WNe9LtqwRr0N",
        "colab": {}
      },
      "source": [
        "df.shape\n",
        "df2=pd.DataFrame(lab,columns=['labels'])"
      ],
      "execution_count": 72,
      "outputs": []
    },
    {
      "cell_type": "code",
      "metadata": {
        "colab_type": "code",
        "id": "8OnOoYbfRr0T",
        "colab": {}
      },
      "source": [
        ""
      ],
      "execution_count": null,
      "outputs": []
    },
    {
      "cell_type": "code",
      "metadata": {
        "colab_type": "code",
        "id": "s6t2VJBbRr0a",
        "colab": {}
      },
      "source": [
        "df['label']=lab"
      ],
      "execution_count": 73,
      "outputs": []
    },
    {
      "cell_type": "code",
      "metadata": {
        "colab_type": "code",
        "id": "18Hc1aj8Rr0e",
        "colab": {
          "base_uri": "https://localhost:8080/",
          "height": 35
        },
        "outputId": "3dd862eb-d672-431b-dc3a-f097af96fc00"
      },
      "source": [
        "df.shape"
      ],
      "execution_count": 74,
      "outputs": [
        {
          "output_type": "execute_result",
          "data": {
            "text/plain": [
              "(624, 513)"
            ]
          },
          "metadata": {
            "tags": []
          },
          "execution_count": 74
        }
      ]
    },
    {
      "cell_type": "code",
      "metadata": {
        "colab_type": "code",
        "id": "XuBTTEJwRr0l",
        "colab": {}
      },
      "source": [
        "df.to_csv('dataset18NewTest.csv',index=False)"
      ],
      "execution_count": 75,
      "outputs": []
    },
    {
      "cell_type": "code",
      "metadata": {
        "colab_type": "code",
        "id": "r1OhI_sJRr0r",
        "colab": {}
      },
      "source": [
        "!cp 'dataset18NewTest.csv'  '/content/drive/My Drive/'"
      ],
      "execution_count": 76,
      "outputs": []
    },
    {
      "cell_type": "code",
      "metadata": {
        "id": "QApKEMr3ShlG",
        "colab_type": "code",
        "colab": {
          "base_uri": "https://localhost:8080/",
          "height": 274
        },
        "outputId": "f07587b3-ec83-4c3d-f566-1f42814cba4d"
      },
      "source": [
        "!ls  '/content/drive/My Drive/' | grep 'dataset'"
      ],
      "execution_count": 79,
      "outputs": [
        {
          "output_type": "stream",
          "text": [
            "covid-chestxray-dataset\n",
            "dataset18New.csv\n",
            "dataset18NewTest.csv\n",
            "dataset34New.csv\n",
            "dataset34NewTest.csv\n",
            "datasetCombinedRes18O.csv\n",
            "datasetCombinedRes34Bal.csv\n",
            "datasetCombinedRes34.csv\n",
            "datasetCombinedRes34O.csv\n",
            "datasetNIHRes18.csv\n",
            "datasetNIHRes34.csv\n",
            "Hybrid Algorithms multiple datasets-converted.gdoc\n",
            "Hybrid Algorithms multiple datasets.gdoc\n",
            "Hybrid Algorithms multiple datasets.pdf\n"
          ],
          "name": "stdout"
        }
      ]
    },
    {
      "cell_type": "code",
      "metadata": {
        "id": "jC_bESx8SmiT",
        "colab_type": "code",
        "colab": {}
      },
      "source": [
        ""
      ],
      "execution_count": null,
      "outputs": []
    }
  ]
}